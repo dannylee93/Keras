{
 "cells": [
  {
   "cell_type": "code",
   "execution_count": 0,
   "metadata": {
    "colab": {},
    "colab_type": "code",
    "id": "rpVspwKZO3pY"
   },
   "outputs": [],
   "source": [
    "# 1. 데이터 불러오기\n",
    "from keras.datasets import mnist\n",
    "from keras.models import Sequential\n",
    "from keras.layers import Conv2D, Dense, Flatten, MaxPooling2D\n",
    "from keras.callbacks import EarlyStopping\n",
    "import numpy as np\n",
    "\n",
    "# MNIST 예제에서 알아서 데이터셋 분리 해놓음\n",
    "(x_train, y_train), (x_test, y_test) = mnist.load_data()"
   ]
  },
  {
   "cell_type": "code",
   "execution_count": 9,
   "metadata": {
    "colab": {
     "base_uri": "https://localhost:8080/",
     "height": 34
    },
    "colab_type": "code",
    "executionInfo": {
     "elapsed": 1264,
     "status": "ok",
     "timestamp": 1580897858893,
     "user": {
      "displayName": "Danny Lee",
      "photoUrl": "https://lh3.googleusercontent.com/a-/AAuE7mBKZFNbtQUR_n3R_ccxSHJ9oZfKHu9ZzzQmK2Qd=s64",
      "userId": "10649935916999635772"
     },
     "user_tz": -540
    },
    "id": "1bCBr0EVO83Y",
    "outputId": "637ab5ed-2339-438f-d185-8ba51c81b0e3"
   },
   "outputs": [
    {
     "name": "stdout",
     "output_type": "stream",
     "text": [
      "<class 'numpy.ndarray'>\n"
     ]
    }
   ],
   "source": [
    "# 2. 데이터 형태 변경(MNIST 예제이지만 그래프 보려고 Dense모델 사용하기 위해 1차원으로)\n",
    "x_train = x_train.reshape(x_train.shape[0],28*28).astype('float32')/255\n",
    "x_test = x_test.reshape(x_test.shape[0],28*28).astype('float32')/255\n",
    "\n",
    "# MNIST 예제는 충분히 잘 정제되어 있는 데이터이기 때문에 astype으로 바로 변경\n",
    "\n",
    "print(type(x_train))"
   ]
  },
  {
   "cell_type": "code",
   "execution_count": 0,
   "metadata": {
    "colab": {},
    "colab_type": "code",
    "id": "MoR2d3FLO9DU"
   },
   "outputs": [],
   "source": [
    "# 3. y값 수치화 변경\n",
    "from keras.utils import to_categorical\n",
    "\n",
    "y_train = to_categorical(y_train)\n",
    "y_test = to_categorical(y_test)"
   ]
  },
  {
   "cell_type": "code",
   "execution_count": 11,
   "metadata": {
    "colab": {
     "base_uri": "https://localhost:8080/",
     "height": 230
    },
    "colab_type": "code",
    "executionInfo": {
     "elapsed": 1260,
     "status": "ok",
     "timestamp": 1580897858895,
     "user": {
      "displayName": "Danny Lee",
      "photoUrl": "https://lh3.googleusercontent.com/a-/AAuE7mBKZFNbtQUR_n3R_ccxSHJ9oZfKHu9ZzzQmK2Qd=s64",
      "userId": "10649935916999635772"
     },
     "user_tz": -540
    },
    "id": "CoE-p9tsO9eh",
    "outputId": "4dc498f1-1bf6-4456-b136-b66cdada7e09"
   },
   "outputs": [
    {
     "name": "stdout",
     "output_type": "stream",
     "text": [
      "Model: \"sequential_2\"\n",
      "_________________________________________________________________\n",
      "Layer (type)                 Output Shape              Param #   \n",
      "=================================================================\n",
      "dense_3 (Dense)              (None, 10)                7850      \n",
      "_________________________________________________________________\n",
      "dense_4 (Dense)              (None, 10)                110       \n",
      "=================================================================\n",
      "Total params: 7,960\n",
      "Trainable params: 7,960\n",
      "Non-trainable params: 0\n",
      "_________________________________________________________________\n"
     ]
    }
   ],
   "source": [
    "# 4. 모델링(DNN)\n",
    "model = Sequential()\n",
    "model.add(Dense(10, activation='relu', input_shape=(784, )))\n",
    "model.add(Dense(10, activation='softmax'))\n",
    "\n",
    "model.summary()"
   ]
  },
  {
   "cell_type": "code",
   "execution_count": 12,
   "metadata": {
    "colab": {
     "base_uri": "https://localhost:8080/",
     "height": 390
    },
    "colab_type": "code",
    "executionInfo": {
     "elapsed": 68306,
     "status": "ok",
     "timestamp": 1580897925946,
     "user": {
      "displayName": "Danny Lee",
      "photoUrl": "https://lh3.googleusercontent.com/a-/AAuE7mBKZFNbtQUR_n3R_ccxSHJ9oZfKHu9ZzzQmK2Qd=s64",
      "userId": "10649935916999635772"
     },
     "user_tz": -540
    },
    "id": "ly9_FRGaO97j",
    "outputId": "36143258-6761-4c01-9401-367806d2f4da"
   },
   "outputs": [
    {
     "name": "stdout",
     "output_type": "stream",
     "text": [
      "Train on 48000 samples, validate on 12000 samples\n",
      "Epoch 1/10\n",
      " - 7s - loss: 0.4280 - acc: 0.8763 - val_loss: 0.2848 - val_acc: 0.9175\n",
      "Epoch 2/10\n",
      " - 6s - loss: 0.2876 - acc: 0.9175 - val_loss: 0.2623 - val_acc: 0.9259\n",
      "Epoch 3/10\n",
      " - 6s - loss: 0.2647 - acc: 0.9230 - val_loss: 0.2419 - val_acc: 0.9318\n",
      "Epoch 4/10\n",
      " - 6s - loss: 0.2485 - acc: 0.9279 - val_loss: 0.2438 - val_acc: 0.9318\n",
      "Epoch 5/10\n",
      " - 6s - loss: 0.2379 - acc: 0.9305 - val_loss: 0.2407 - val_acc: 0.9297\n",
      "Epoch 6/10\n",
      " - 7s - loss: 0.2291 - acc: 0.9331 - val_loss: 0.2320 - val_acc: 0.9342\n",
      "Epoch 7/10\n",
      " - 6s - loss: 0.2204 - acc: 0.9362 - val_loss: 0.2260 - val_acc: 0.9371\n",
      "Epoch 8/10\n",
      " - 6s - loss: 0.2149 - acc: 0.9369 - val_loss: 0.2328 - val_acc: 0.9346\n",
      "Epoch 9/10\n",
      " - 7s - loss: 0.2090 - acc: 0.9398 - val_loss: 0.2245 - val_acc: 0.9361\n",
      "Epoch 10/10\n",
      " - 8s - loss: 0.2050 - acc: 0.9403 - val_loss: 0.2196 - val_acc: 0.9368\n"
     ]
    }
   ],
   "source": [
    "# 5. 훈련\n",
    "model.compile(loss='categorical_crossentropy', optimizer='adam', metrics=['acc'])\n",
    "hist = model.fit(x_train, y_train, epochs=10, batch_size=10, validation_split=0.2,verbose=2)\n",
    "# fit할 때 history 객체를 만들어 주고 싶어서 'hist'라는 객체 안에 저장했다."
   ]
  },
  {
   "cell_type": "code",
   "execution_count": 13,
   "metadata": {
    "colab": {
     "base_uri": "https://localhost:8080/",
     "height": 34
    },
    "colab_type": "code",
    "executionInfo": {
     "elapsed": 68304,
     "status": "ok",
     "timestamp": 1580897925947,
     "user": {
      "displayName": "Danny Lee",
      "photoUrl": "https://lh3.googleusercontent.com/a-/AAuE7mBKZFNbtQUR_n3R_ccxSHJ9oZfKHu9ZzzQmK2Qd=s64",
      "userId": "10649935916999635772"
     },
     "user_tz": -540
    },
    "id": "6lb95-Y9PKN0",
    "outputId": "6cca5872-2826-4119-a347-86865b0465f7"
   },
   "outputs": [
    {
     "name": "stdout",
     "output_type": "stream",
     "text": [
      "dict_keys(['val_loss', 'val_acc', 'loss', 'acc'])\n"
     ]
    }
   ],
   "source": [
    "# 6. history 만들기(fit을 하면 loss, metrics, history가 생성된다)\n",
    "print(hist.history.keys())"
   ]
  },
  {
   "cell_type": "code",
   "execution_count": 14,
   "metadata": {
    "colab": {
     "base_uri": "https://localhost:8080/",
     "height": 294
    },
    "colab_type": "code",
    "executionInfo": {
     "elapsed": 68547,
     "status": "ok",
     "timestamp": 1580897926194,
     "user": {
      "displayName": "Danny Lee",
      "photoUrl": "https://lh3.googleusercontent.com/a-/AAuE7mBKZFNbtQUR_n3R_ccxSHJ9oZfKHu9ZzzQmK2Qd=s64",
      "userId": "10649935916999635772"
     },
     "user_tz": -540
    },
    "id": "zKCqsJRkPX7z",
    "outputId": "bff08326-4bb6-4864-c711-0c69ea29e5c1"
   },
   "outputs": [
    {
     "data": {
      "image/png": "[encoded data removed]",
      "text/plain": [
       "<Figure size 432x288 with 1 Axes>"
      ]
     },
     "metadata": {
      "tags": []
     },
     "output_type": "display_data"
    }
   ],
   "source": [
    "# 7. 그래프 그리기 \n",
    "import matplotlib.pyplot as plt\n",
    "\n",
    "plt.plot(hist.history['loss'])\n",
    "plt.plot(hist.history['val_loss'])\n",
    "plt.plot(hist.history['acc'])\n",
    "plt.plot(hist.history['val_acc'])\n",
    "\n",
    "plt.title('model loss, accuracy')\n",
    "plt.ylabel('loss, acc')\n",
    "plt.xlabel('epoch')\n",
    "plt.legend(['train loss', 'test loss', 'train acc', 'test acc'])\n",
    "plt.show()"
   ]
  }
 ],
 "metadata": {
  "colab": {
   "authorship_tag": "ABX9TyN+XzqiyX+1eNqBiQPeiP7y",
   "collapsed_sections": [],
   "name": "CNN_plot.ipynb",
   "provenance": []
  },
  "kernelspec": {
   "display_name": "Python 3",
   "language": "python",
   "name": "python3"
  },
  "language_info": {
   "codemirror_mode": {
    "name": "ipython",
    "version": 3
   },
   "file_extension": ".py",
   "mimetype": "text/x-python",
   "name": "python",
   "nbconvert_exporter": "python",
   "pygments_lexer": "ipython3",
   "version": "3.7.4"
  }
 },
 "nbformat": 4,
 "nbformat_minor": 1
}
