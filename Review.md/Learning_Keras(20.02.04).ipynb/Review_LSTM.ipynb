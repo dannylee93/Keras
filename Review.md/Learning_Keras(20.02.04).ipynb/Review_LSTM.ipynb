{
 "cells": [
  {
   "cell_type": "code",
   "execution_count": 1,
   "metadata": {},
   "outputs": [
    {
     "name": "stdout",
     "output_type": "stream",
     "text": [
      "[[   53000    53900    51800    51900 39565391]\n",
      " [   52600    53200    51900    52600 23104720]\n",
      " [   52600    52800    50900    50900 16128305]\n",
      " ...\n",
      " [   59100    59700    58800    59100 16446102]\n",
      " [   58800    58800    56800    57200 20821939]\n",
      " [   57800    58400    56400    56400 19749457]]\n",
      "[[   320.56    321.      316.75    316.75 173911.  ]\n",
      " [   317.79    319.53    314.95    315.87 141252.  ]\n",
      " [   315.93    316.08    312.6     314.42 123610.  ]\n",
      " ...\n",
      " [   294.38    295.67    292.45    293.98  85731.  ]\n",
      " [   293.27    294.11    287.09    288.37 101535.  ]\n",
      " [   290.24    291.47    284.53    284.53 101455.  ]]\n",
      "[[   53000    53900    51800    51900 39565391]\n",
      " [   52600    53200    51900    52600 23104720]\n",
      " [   52600    52800    50900    50900 16128305]\n",
      " [   51700    51700    50600    51600 13905263]\n",
      " [   52000    52200    51200    51300 10314997]] \n",
      " [50100]\n"
     ]
    }
   ],
   "source": [
    "import numpy as np\n",
    "import pandas as pd\n",
    "\n",
    "samsung = np.load(\"samsung.npy\")\n",
    "kospi200 = np.load(\"kospi200.npy\")\n",
    "\n",
    "print(samsung)\n",
    "print(kospi200)\n",
    "\n",
    "##########################################################################################\n",
    "               \n",
    "def split_xy(dataset, n_steps, y_column):\n",
    "    x,y = list(), list()\n",
    "    for i in range(len(dataset)):     \n",
    "        x_end_number = i + n_steps\n",
    "        y_end_number = x_end_number + y_column\n",
    "        if y_end_number > len(dataset):  \n",
    "            break\n",
    "            \n",
    "        tmp_x, tmp_y = dataset[i:x_end_number, : ], dataset[x_end_number:y_end_number, 3] \n",
    "        x.append(tmp_x)                                      \n",
    "        y.append(tmp_y)\n",
    "    return np.array(x), np.array(y)\n",
    "\n",
    "x, y = split_xy(samsung,5,1)\n",
    "print(x[0,:], '\\n',y[0])"
   ]
  },
  {
   "cell_type": "code",
   "execution_count": 2,
   "metadata": {},
   "outputs": [
    {
     "name": "stdout",
     "output_type": "stream",
     "text": [
      "(421, 5, 5) (421, 1)\n"
     ]
    }
   ],
   "source": [
    "print(x.shape, y.shape)"
   ]
  },
  {
   "cell_type": "code",
   "execution_count": 14,
   "metadata": {},
   "outputs": [
    {
     "data": {
      "text/plain": [
       "(253, 5, 5)"
      ]
     },
     "execution_count": 14,
     "metadata": {},
     "output_type": "execute_result"
    }
   ],
   "source": [
    "# 데이터셋 나누기\n",
    "from sklearn.model_selection import train_test_split\n",
    "\n",
    "x_train, x_test, y_train, y_test = train_test_split(x,y, \n",
    "                                                   random_state=1,\n",
    "                                                    test_size=0.6,\n",
    "                                                    shuffle=False)\n",
    "\n",
    "print(x_train, x_test)\n",
    "print(y_train, y_test)"
   ]
  },
  {
   "cell_type": "code",
   "execution_count": 4,
   "metadata": {},
   "outputs": [
    {
     "data": {
      "text/plain": [
       "(168, 25)"
      ]
     },
     "execution_count": 4,
     "metadata": {},
     "output_type": "execute_result"
    }
   ],
   "source": [
    "# 데이터 전처리 StandardScaler\n",
    "from sklearn.preprocessing import StandardScaler\n",
    "\n",
    "x_train = np.reshape(x_train, (x_train.shape[0], x_train.shape[1] * x_train.shape[2]))\n",
    "x_test = np.reshape(x_test, (x_test.shape[0], x_test.shape[1] * x_test.shape[2]))\n",
    "                          \n",
    "x_train.shape"
   ]
  },
  {
   "cell_type": "code",
   "execution_count": 5,
   "metadata": {},
   "outputs": [],
   "source": [
    "scaler = StandardScaler()\n",
    "scaler.fit(x_train)\n",
    "\n",
    "x_train = scaler.transform(x_train) \n",
    "x_test = scaler.transform(x_test)"
   ]
  },
  {
   "cell_type": "code",
   "execution_count": 6,
   "metadata": {},
   "outputs": [],
   "source": [
    "x_train = np.reshape(x_train, (x_train.shape[0], 5, 5))\n",
    "x_test = np.reshape(x_test, (x_test.shape[0], 5, 5))"
   ]
  },
  {
   "cell_type": "code",
   "execution_count": 7,
   "metadata": {},
   "outputs": [
    {
     "name": "stderr",
     "output_type": "stream",
     "text": [
      "Using TensorFlow backend.\n",
      "C:\\Users\\student\\Anaconda3\\lib\\site-packages\\tensorflow\\python\\framework\\dtypes.py:526: FutureWarning: Passing (type, 1) or '1type' as a synonym of type is deprecated; in a future version of numpy, it will be understood as (type, (1,)) / '(1,)type'.\n",
      "  _np_qint8 = np.dtype([(\"qint8\", np.int8, 1)])\n",
      "C:\\Users\\student\\Anaconda3\\lib\\site-packages\\tensorflow\\python\\framework\\dtypes.py:527: FutureWarning: Passing (type, 1) or '1type' as a synonym of type is deprecated; in a future version of numpy, it will be understood as (type, (1,)) / '(1,)type'.\n",
      "  _np_quint8 = np.dtype([(\"quint8\", np.uint8, 1)])\n",
      "C:\\Users\\student\\Anaconda3\\lib\\site-packages\\tensorflow\\python\\framework\\dtypes.py:528: FutureWarning: Passing (type, 1) or '1type' as a synonym of type is deprecated; in a future version of numpy, it will be understood as (type, (1,)) / '(1,)type'.\n",
      "  _np_qint16 = np.dtype([(\"qint16\", np.int16, 1)])\n",
      "C:\\Users\\student\\Anaconda3\\lib\\site-packages\\tensorflow\\python\\framework\\dtypes.py:529: FutureWarning: Passing (type, 1) or '1type' as a synonym of type is deprecated; in a future version of numpy, it will be understood as (type, (1,)) / '(1,)type'.\n",
      "  _np_quint16 = np.dtype([(\"quint16\", np.uint16, 1)])\n",
      "C:\\Users\\student\\Anaconda3\\lib\\site-packages\\tensorflow\\python\\framework\\dtypes.py:530: FutureWarning: Passing (type, 1) or '1type' as a synonym of type is deprecated; in a future version of numpy, it will be understood as (type, (1,)) / '(1,)type'.\n",
      "  _np_qint32 = np.dtype([(\"qint32\", np.int32, 1)])\n",
      "C:\\Users\\student\\Anaconda3\\lib\\site-packages\\tensorflow\\python\\framework\\dtypes.py:535: FutureWarning: Passing (type, 1) or '1type' as a synonym of type is deprecated; in a future version of numpy, it will be understood as (type, (1,)) / '(1,)type'.\n",
      "  np_resource = np.dtype([(\"resource\", np.ubyte, 1)])\n"
     ]
    },
    {
     "name": "stdout",
     "output_type": "stream",
     "text": [
      "WARNING:tensorflow:From C:\\Users\\student\\Anaconda3\\lib\\site-packages\\tensorflow\\python\\ops\\resource_variable_ops.py:435: colocate_with (from tensorflow.python.framework.ops) is deprecated and will be removed in a future version.\n",
      "Instructions for updating:\n",
      "Colocations handled automatically by placer.\n",
      "Model: \"sequential_1\"\n",
      "_________________________________________________________________\n",
      "Layer (type)                 Output Shape              Param #   \n",
      "=================================================================\n",
      "lstm_1 (LSTM)                (None, 32)                4864      \n",
      "_________________________________________________________________\n",
      "dense_1 (Dense)              (None, 16)                528       \n",
      "_________________________________________________________________\n",
      "dropout_1 (Dropout)          (None, 16)                0         \n",
      "_________________________________________________________________\n",
      "dense_2 (Dense)              (None, 64)                1088      \n",
      "_________________________________________________________________\n",
      "batch_normalization_1 (Batch (None, 64)                256       \n",
      "_________________________________________________________________\n",
      "dense_3 (Dense)              (None, 8)                 520       \n",
      "_________________________________________________________________\n",
      "dense_4 (Dense)              (None, 1)                 9         \n",
      "=================================================================\n",
      "Total params: 7,265\n",
      "Trainable params: 7,137\n",
      "Non-trainable params: 128\n",
      "_________________________________________________________________\n"
     ]
    }
   ],
   "source": [
    "# 2. 모델 구성\n",
    "from keras.models import Sequential\n",
    "from keras.layers import Dense, LSTM, BatchNormalization, Dropout, Reshape\n",
    "\n",
    "model = Sequential()\n",
    "\n",
    "model.add(LSTM(32, input_shape=(5,5), activation='tanh'))\n",
    "model.add(Dense(16, activation='relu'))\n",
    "model.add(Dropout(0.2))\n",
    "model.add(Dense(64, activation='relu'))\n",
    "model.add(BatchNormalization())\n",
    "model.add(Dense(8, activation='relu'))\n",
    "model.add(Dense(1, activation='sigmoid'))\n",
    "model.summary()"
   ]
  },
  {
   "cell_type": "code",
   "execution_count": 8,
   "metadata": {},
   "outputs": [
    {
     "name": "stdout",
     "output_type": "stream",
     "text": [
      "WARNING:tensorflow:From C:\\Users\\student\\Anaconda3\\lib\\site-packages\\tensorflow\\python\\ops\\math_ops.py:3066: to_int32 (from tensorflow.python.ops.math_ops) is deprecated and will be removed in a future version.\n",
      "Instructions for updating:\n",
      "Use tf.cast instead.\n"
     ]
    },
    {
     "data": {
      "text/plain": [
       "<keras.callbacks.callbacks.History at 0x1e526316710>"
      ]
     },
     "execution_count": 8,
     "metadata": {},
     "output_type": "execute_result"
    }
   ],
   "source": [
    "#3. 훈련\n",
    "model.compile(loss='mse', optimizer='adam', metrics=['mae'])\n",
    "model.fit(x_train, y_train, epochs=100, batch_size=1, validation_split=0.2,verbose=0)\n",
    "# validation_split=0.2 == 트레인 데이터에서 0.2 만큼을 검증용으로 사용하겠다."
   ]
  },
  {
   "cell_type": "code",
   "execution_count": 9,
   "metadata": {},
   "outputs": [
    {
     "name": "stdout",
     "output_type": "stream",
     "text": [
      "253/253 [==============================] - 0s 623us/step\n",
      "evaluation:[2316034769.4545455, 47897.8125]\n"
     ]
    }
   ],
   "source": [
    "#4. 평가예측\n",
    "evaluation = model.evaluate(x_test, y_test, batch_size=1)\n",
    "print(\"evaluation:{}\".format(evaluation))"
   ]
  },
  {
   "cell_type": "code",
   "execution_count": 15,
   "metadata": {},
   "outputs": [
    {
     "name": "stdout",
     "output_type": "stream",
     "text": [
      "RMSE : 48125.210803873546\n",
      "R2 :  -105.0743070873162\n"
     ]
    }
   ],
   "source": [
    "# RMSE 만들기\n",
    "from sklearn.metrics import mean_squared_error\n",
    "y_predict = model.predict(x_test, batch_size=1)\n",
    "\n",
    "\n",
    "def RMSE(y_test, y_predict):\n",
    "    return np.sqrt(mean_squared_error(y_test\n",
    "                                      , y_predict))\n",
    "print(\"RMSE :\", RMSE(y_test, y_predict))\n",
    "\n",
    "# R2 지표 만들기\n",
    "from sklearn.metrics import r2_score\n",
    "\n",
    "r2_y_predict  = r2_score(y_test, y_predict)\n",
    "print(\"R2 : \", r2_y_predict)"
   ]
  },
  {
   "cell_type": "code",
   "execution_count": 11,
   "metadata": {},
   "outputs": [
    {
     "name": "stdout",
     "output_type": "stream",
     "text": [
      "종가(test) : [42750]\n",
      "종가(pred) : [0.979832]\n",
      "종가(test) : [42150]\n",
      "종가(pred) : [0.98752314]\n",
      "종가(test) : [42000]\n",
      "종가(pred) : [0.99116427]\n",
      "종가(test) : [43050]\n",
      "종가(pred) : [0.9907415]\n",
      "종가(test) : [44750]\n",
      "종가(pred) : [0.9937941]\n"
     ]
    }
   ],
   "source": [
    "for i in range(5):\n",
    "    print(\"종가(test) : {}\".format(y_test[i]))\n",
    "    print(\"종가(pred) : {}\".format(y_predict[i]))"
   ]
  },
  {
   "cell_type": "code",
   "execution_count": null,
   "metadata": {},
   "outputs": [],
   "source": []
  }
 ],
 "metadata": {
  "kernelspec": {
   "display_name": "Python 3",
   "language": "python",
   "name": "python3"
  },
  "language_info": {
   "codemirror_mode": {
    "name": "ipython",
    "version": 3
   },
   "file_extension": ".py",
   "mimetype": "text/x-python",
   "name": "python",
   "nbconvert_exporter": "python",
   "pygments_lexer": "ipython3",
   "version": "3.7.3"
  }
 },
 "nbformat": 4,
 "nbformat_minor": 4
}
