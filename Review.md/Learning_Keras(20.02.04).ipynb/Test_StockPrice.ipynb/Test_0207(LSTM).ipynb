{
 "cells": [
  {
   "cell_type": "markdown",
   "metadata": {},
   "source": [
    "<br>\n",
    "\n",
    "## 2월7일 삼성전자 주가 예측"
   ]
  },
  {
   "cell_type": "code",
   "execution_count": 1,
   "metadata": {},
   "outputs": [
    {
     "data": {
      "text/html": [
       "<div>\n",
       "<style scoped>\n",
       "    .dataframe tbody tr th:only-of-type {\n",
       "        vertical-align: middle;\n",
       "    }\n",
       "\n",
       "    .dataframe tbody tr th {\n",
       "        vertical-align: top;\n",
       "    }\n",
       "\n",
       "    .dataframe thead th {\n",
       "        text-align: right;\n",
       "    }\n",
       "</style>\n",
       "<table border=\"1\" class=\"dataframe\">\n",
       "  <thead>\n",
       "    <tr style=\"text-align: right;\">\n",
       "      <th></th>\n",
       "      <th>일자</th>\n",
       "      <th>시가</th>\n",
       "      <th>고가</th>\n",
       "      <th>저가</th>\n",
       "      <th>종가</th>\n",
       "      <th>거래량</th>\n",
       "    </tr>\n",
       "  </thead>\n",
       "  <tbody>\n",
       "    <tr>\n",
       "      <th>425</th>\n",
       "      <td>2018-05-04</td>\n",
       "      <td>53000</td>\n",
       "      <td>53900</td>\n",
       "      <td>51800</td>\n",
       "      <td>51900</td>\n",
       "      <td>39565391</td>\n",
       "    </tr>\n",
       "    <tr>\n",
       "      <th>424</th>\n",
       "      <td>2018-05-08</td>\n",
       "      <td>52600</td>\n",
       "      <td>53200</td>\n",
       "      <td>51900</td>\n",
       "      <td>52600</td>\n",
       "      <td>23104720</td>\n",
       "    </tr>\n",
       "    <tr>\n",
       "      <th>423</th>\n",
       "      <td>2018-05-09</td>\n",
       "      <td>52600</td>\n",
       "      <td>52800</td>\n",
       "      <td>50900</td>\n",
       "      <td>50900</td>\n",
       "      <td>16128305</td>\n",
       "    </tr>\n",
       "    <tr>\n",
       "      <th>422</th>\n",
       "      <td>2018-05-10</td>\n",
       "      <td>51700</td>\n",
       "      <td>51700</td>\n",
       "      <td>50600</td>\n",
       "      <td>51600</td>\n",
       "      <td>13905263</td>\n",
       "    </tr>\n",
       "    <tr>\n",
       "      <th>421</th>\n",
       "      <td>2018-05-11</td>\n",
       "      <td>52000</td>\n",
       "      <td>52200</td>\n",
       "      <td>51200</td>\n",
       "      <td>51300</td>\n",
       "      <td>10314997</td>\n",
       "    </tr>\n",
       "  </tbody>\n",
       "</table>\n",
       "</div>"
      ],
      "text/plain": [
       "             일자     시가     고가     저가     종가       거래량\n",
       "425  2018-05-04  53000  53900  51800  51900  39565391\n",
       "424  2018-05-08  52600  53200  51900  52600  23104720\n",
       "423  2018-05-09  52600  52800  50900  50900  16128305\n",
       "422  2018-05-10  51700  51700  50600  51600  13905263\n",
       "421  2018-05-11  52000  52200  51200  51300  10314997"
      ]
     },
     "execution_count": 1,
     "metadata": {},
     "output_type": "execute_result"
    }
   ],
   "source": [
    "# 데이터 준비 \n",
    "import pandas as pd\n",
    "import numpy as np\n",
    "\n",
    "samsung_data = pd.read_csv('samsung.csv', encoding='cp949', thousands=',')\n",
    "samsung_data = pd.DataFrame(samsung_data).sort_index(ascending=False)\n",
    "\n",
    "samsung_data.head()"
   ]
  },
  {
   "cell_type": "code",
   "execution_count": 2,
   "metadata": {},
   "outputs": [],
   "source": [
    "del(samsung_data['일자'])\n",
    "samsung = np.array(samsung_data)"
   ]
  },
  {
   "cell_type": "code",
   "execution_count": 3,
   "metadata": {},
   "outputs": [],
   "source": [
    "samsung_target = pd.read_excel('samsung0206.xlsx', encoding='cp949', thousands=',')\n",
    "samsung_target = pd.DataFrame(samsung_target).sort_index(ascending=False)\n",
    "\n",
    "del(samsung_target['Unnamed: 0'])\n",
    "predict = np.array(samsung_target)\n",
    "predict = predict.reshape(1,4,5)"
   ]
  },
  {
   "cell_type": "code",
   "execution_count": 4,
   "metadata": {},
   "outputs": [],
   "source": [
    "# 데이터 셋 준비\n",
    "x = []\n",
    "y = []\n",
    "\n",
    "# print(samsung_data.iloc[1:6, :], samsung_data.iloc[6,3])  >>> 예시\n",
    "for i in range(1, len(samsung)-4, +1):\n",
    "    x_tmp = samsung[i:i+4, :]   # (5행 5열 데이터 뽑아서 넣어줘)\n",
    "    y_tmp = samsung[i+4, 3]     # x데이터 바로 다음 행의 종가 데이터 알려줘\n",
    "    \n",
    "    x.append(x_tmp)\n",
    "    y.append(y_tmp)\n",
    "########################################################################\n",
    "x = np.array(x)\n",
    "y = np.array(y)"
   ]
  },
  {
   "cell_type": "code",
   "execution_count": 5,
   "metadata": {},
   "outputs": [
    {
     "name": "stdout",
     "output_type": "stream",
     "text": [
      "(421, 4, 5) (421,) (1, 4, 5)\n"
     ]
    }
   ],
   "source": [
    "print(x.shape, y.shape, predict.shape)"
   ]
  },
  {
   "cell_type": "code",
   "execution_count": 6,
   "metadata": {},
   "outputs": [],
   "source": [
    "# Data split하기\n",
    "from sklearn.model_selection import train_test_split\n",
    "\n",
    "x_train, x_test , y_train, y_test = train_test_split(x, y,\n",
    "                                                     test_size=0.4,\n",
    "                                                     shuffle = False)\n",
    "x_test, x_val , y_test, y_val = train_test_split(x_test, y_test,\n",
    "                                                     test_size=0.5,\n",
    "                                                     shuffle = False)"
   ]
  },
  {
   "cell_type": "code",
   "execution_count": 7,
   "metadata": {},
   "outputs": [
    {
     "name": "stderr",
     "output_type": "stream",
     "text": [
      "Using TensorFlow backend.\n"
     ]
    },
    {
     "name": "stdout",
     "output_type": "stream",
     "text": [
      "Model: \"sequential_1\"\n",
      "_________________________________________________________________\n",
      "Layer (type)                 Output Shape              Param #   \n",
      "=================================================================\n",
      "lstm_1 (LSTM)                (None, 32)                4864      \n",
      "_________________________________________________________________\n",
      "dense_1 (Dense)              (None, 16)                528       \n",
      "_________________________________________________________________\n",
      "dropout_1 (Dropout)          (None, 16)                0         \n",
      "_________________________________________________________________\n",
      "dense_2 (Dense)              (None, 64)                1088      \n",
      "_________________________________________________________________\n",
      "dense_3 (Dense)              (None, 8)                 520       \n",
      "_________________________________________________________________\n",
      "dense_4 (Dense)              (None, 1)                 9         \n",
      "=================================================================\n",
      "Total params: 7,009\n",
      "Trainable params: 7,009\n",
      "Non-trainable params: 0\n",
      "_________________________________________________________________\n"
     ]
    }
   ],
   "source": [
    "# 2. 모델 구성\n",
    "from keras.models import Sequential\n",
    "from keras.layers import Dense, LSTM, Dropout\n",
    "\n",
    "model = Sequential()\n",
    "\n",
    "model.add(LSTM(32, input_shape=(4,5), activation='tanh'))\n",
    "model.add(Dense(16, activation='relu'))\n",
    "model.add(Dropout(0.2))\n",
    "model.add(Dense(64, activation='relu'))\n",
    "model.add(Dense(8, activation='relu'))\n",
    "model.add(Dense(1))\n",
    "model.summary()"
   ]
  },
  {
   "cell_type": "code",
   "execution_count": 8,
   "metadata": {},
   "outputs": [
    {
     "name": "stdout",
     "output_type": "stream",
     "text": [
      "WARNING:tensorflow:From C:\\Users\\student\\Anaconda3\\lib\\site-packages\\keras\\backend\\tensorflow_backend.py:422: The name tf.global_variables is deprecated. Please use tf.compat.v1.global_variables instead.\n",
      "\n",
      "Epoch 1/100\n",
      "252/252 [==============================] - 0s 1ms/step - loss: 2023998910.9841 - mae: 44896.0586\n",
      "Epoch 2/100\n",
      "252/252 [==============================] - 0s 261us/step - loss: 2023984289.5238 - mae: 44895.9062\n",
      "Epoch 3/100\n",
      "252/252 [==============================] - 0s 284us/step - loss: 2023963073.0159 - mae: 44895.6680\n",
      "Epoch 4/100\n",
      "252/252 [==============================] - 0s 281us/step - loss: 2023906954.1587 - mae: 44895.0430\n",
      "Epoch 5/100\n",
      "252/252 [==============================] - 0s 283us/step - loss: 2023750138.9206 - mae: 44893.2969\n",
      "Epoch 6/100\n",
      "252/252 [==============================] - 0s 263us/step - loss: 2023329055.4921 - mae: 44888.6055\n",
      "Epoch 7/100\n",
      "252/252 [==============================] - 0s 273us/step - loss: 2022366267.9365 - mae: 44877.9062\n",
      "Epoch 8/100\n",
      "252/252 [==============================] - 0s 250us/step - loss: 2020362293.8413 - mae: 44855.5391\n",
      "Epoch 9/100\n",
      "252/252 [==============================] - 0s 265us/step - loss: 2016872154.4127 - mae: 44816.6055\n",
      "Epoch 10/100\n",
      "252/252 [==============================] - 0s 232us/step - loss: 2011539491.5556 - mae: 44756.8945\n",
      "Epoch 11/100\n",
      "252/252 [==============================] - 0s 234us/step - loss: 2002964860.9524 - mae: 44661.3906\n",
      "Epoch 12/100\n",
      "252/252 [==============================] - 0s 210us/step - loss: 1991144055.8730 - mae: 44528.4180\n",
      "Epoch 13/100\n",
      "252/252 [==============================] - 0s 304us/step - loss: 1972899438.7302 - mae: 44321.9922\n",
      "Epoch 14/100\n",
      "252/252 [==============================] - 0s 276us/step - loss: 1951655058.2857 - mae: 44080.9922\n",
      "Epoch 15/100\n",
      "252/252 [==============================] - 0s 252us/step - loss: 1920929585.7778 - mae: 43733.6016\n",
      "Epoch 16/100\n",
      "252/252 [==============================] - 0s 232us/step - loss: 1880490325.3333 - mae: 43264.5195\n",
      "Epoch 17/100\n",
      "252/252 [==============================] - 0s 251us/step - loss: 1833740445.4603 - mae: 42718.4102\n",
      "Epoch 18/100\n",
      "252/252 [==============================] - 0s 249us/step - loss: 1781675799.3651 - mae: 42102.4023\n",
      "Epoch 19/100\n",
      "252/252 [==============================] - 0s 244us/step - loss: 1707418139.4286 - mae: 41212.0664\n",
      "Epoch 20/100\n",
      "252/252 [==============================] - 0s 242us/step - loss: 1639103347.8095 - mae: 40369.1875\n",
      "Epoch 21/100\n",
      "252/252 [==============================] - 0s 226us/step - loss: 1541918499.5556 - mae: 39125.7812\n",
      "Epoch 22/100\n",
      "252/252 [==============================] - 0s 266us/step - loss: 1442516395.6825 - mae: 37837.0156\n",
      "Epoch 23/100\n",
      "252/252 [==============================] - 0s 267us/step - loss: 1348029322.1587 - mae: 36528.7148\n",
      "Epoch 24/100\n",
      "252/252 [==============================] - 0s 246us/step - loss: 1216995932.9524 - mae: 34666.1367\n",
      "Epoch 25/100\n",
      "252/252 [==============================] - 0s 258us/step - loss: 1079051109.5873 - mae: 32625.0410\n",
      "Epoch 26/100\n",
      "252/252 [==============================] - 0s 293us/step - loss: 986178842.9206 - mae: 31099.5508\n",
      "Epoch 27/100\n",
      "252/252 [==============================] - 0s 291us/step - loss: 874490083.5556 - mae: 29174.9688\n",
      "Epoch 28/100\n",
      "252/252 [==============================] - 0s 280us/step - loss: 771284223.4921 - mae: 27169.3262\n",
      "Epoch 29/100\n",
      "252/252 [==============================] - 0s 289us/step - loss: 654024196.5714 - mae: 24872.6836\n",
      "Epoch 30/100\n",
      "252/252 [==============================] - 0s 261us/step - loss: 559881109.8413 - mae: 22678.9707\n",
      "Epoch 31/100\n",
      "252/252 [==============================] - 0s 237us/step - loss: 433459537.2698 - mae: 19764.9062\n",
      "Epoch 32/100\n",
      "252/252 [==============================] - 0s 264us/step - loss: 340677514.5397 - mae: 17085.7598\n",
      "Epoch 33/100\n",
      "252/252 [==============================] - 0s 253us/step - loss: 277541404.8571 - mae: 14930.9434\n",
      "Epoch 34/100\n",
      "252/252 [==============================] - 0s 263us/step - loss: 232139253.1746 - mae: 12737.2334\n",
      "Epoch 35/100\n",
      "252/252 [==============================] - 0s 268us/step - loss: 213971450.4444 - mae: 11857.8955\n",
      "Epoch 36/100\n",
      "252/252 [==============================] - 0s 245us/step - loss: 199429946.0952 - mae: 10643.6650\n",
      "Epoch 37/100\n",
      "252/252 [==============================] - 0s 267us/step - loss: 149125934.2857 - mae: 9176.8369\n",
      "Epoch 38/100\n",
      "252/252 [==============================] - 0s 274us/step - loss: 131080521.1349 - mae: 8655.4189\n",
      "Epoch 39/100\n",
      "252/252 [==============================] - 0s 247us/step - loss: 134647907.1270 - mae: 9153.2500\n",
      "Epoch 40/100\n",
      "252/252 [==============================] - 0s 253us/step - loss: 137967411.8413 - mae: 9371.6436\n",
      "Epoch 41/100\n",
      "252/252 [==============================] - 0s 243us/step - loss: 135281945.2698 - mae: 9303.2793\n",
      "Epoch 42/100\n",
      "252/252 [==============================] - 0s 296us/step - loss: 105176880.0794 - mae: 8250.0635\n",
      "Epoch 43/100\n",
      "252/252 [==============================] - 0s 307us/step - loss: 116063036.6349 - mae: 8749.5410\n",
      "Epoch 44/100\n",
      "252/252 [==============================] - 0s 291us/step - loss: 124189893.5556 - mae: 9206.6514\n",
      "Epoch 45/100\n",
      "252/252 [==============================] - 0s 271us/step - loss: 116424780.5079 - mae: 8719.7725\n",
      "Epoch 46/100\n",
      "252/252 [==============================] - 0s 248us/step - loss: 107992802.3968 - mae: 8501.5010\n",
      "Epoch 47/100\n",
      "252/252 [==============================] - 0s 269us/step - loss: 130573517.0159 - mae: 9355.4209\n",
      "Epoch 48/100\n",
      "252/252 [==============================] - 0s 274us/step - loss: 116955299.3968 - mae: 8793.0518\n",
      "Epoch 49/100\n",
      "252/252 [==============================] - 0s 238us/step - loss: 118003150.7937 - mae: 8813.7402\n",
      "Epoch 50/100\n",
      "252/252 [==============================] - 0s 300us/step - loss: 120618549.8095 - mae: 9108.8330: 0s - loss: 126983119.5556 - mae: 9373.783\n",
      "Epoch 51/100\n",
      "252/252 [==============================] - 0s 287us/step - loss: 113274356.7619 - mae: 9062.8779\n",
      "Epoch 52/100\n",
      "252/252 [==============================] - 0s 289us/step - loss: 103776737.5238 - mae: 8677.7803\n",
      "Epoch 53/100\n",
      "252/252 [==============================] - 0s 276us/step - loss: 134551103.7460 - mae: 9263.7402\n",
      "Epoch 54/100\n",
      "252/252 [==============================] - 0s 214us/step - loss: 111177388.8889 - mae: 8565.0332\n",
      "Epoch 55/100\n",
      "252/252 [==============================] - 0s 200us/step - loss: 117447702.2063 - mae: 9006.5205\n",
      "Epoch 56/100\n",
      "252/252 [==============================] - 0s 225us/step - loss: 135607777.1746 - mae: 9387.8232\n",
      "Epoch 57/100\n",
      "252/252 [==============================] - 0s 230us/step - loss: 134905275.6429 - mae: 9525.2168\n",
      "Epoch 58/100\n",
      "252/252 [==============================] - 0s 230us/step - loss: 132956995.1111 - mae: 9219.4199\n",
      "Epoch 59/100\n",
      "252/252 [==============================] - 0s 205us/step - loss: 134964937.7778 - mae: 9426.7002\n",
      "Epoch 60/100\n",
      "252/252 [==============================] - 0s 198us/step - loss: 127504562.9524 - mae: 9105.0498\n",
      "Epoch 61/100\n",
      "252/252 [==============================] - 0s 198us/step - loss: 133056158.4762 - mae: 9292.9307\n",
      "Epoch 62/100\n",
      "252/252 [==============================] - 0s 212us/step - loss: 115328210.9524 - mae: 8746.0518\n",
      "Epoch 63/100\n",
      "252/252 [==============================] - 0s 153us/step - loss: 124474139.8016 - mae: 8891.2803\n",
      "Epoch 64/100\n",
      "252/252 [==============================] - 0s 198us/step - loss: 119886771.5556 - mae: 8802.6865\n",
      "Epoch 65/100\n",
      "252/252 [==============================] - 0s 203us/step - loss: 149386361.3333 - mae: 9829.6211\n",
      "Epoch 66/100\n",
      "252/252 [==============================] - 0s 203us/step - loss: 124652248.9841 - mae: 9092.0615\n",
      "Epoch 67/100\n",
      "252/252 [==============================] - 0s 202us/step - loss: 126996150.1270 - mae: 9226.4570\n",
      "Epoch 68/100\n",
      "252/252 [==============================] - 0s 173us/step - loss: 126258612.1667 - mae: 9015.9834\n",
      "Epoch 69/100\n",
      "252/252 [==============================] - 0s 225us/step - loss: 113850831.7778 - mae: 8522.3535\n",
      "Epoch 70/100\n",
      "252/252 [==============================] - 0s 164us/step - loss: 119464966.9206 - mae: 9248.2822\n",
      "Epoch 71/100\n",
      "252/252 [==============================] - 0s 263us/step - loss: 159312286.2540 - mae: 9877.1025\n",
      "Epoch 72/100\n"
     ]
    },
    {
     "name": "stdout",
     "output_type": "stream",
     "text": [
      "252/252 [==============================] - 0s 213us/step - loss: 130160524.6349 - mae: 9209.8984\n",
      "Epoch 73/100\n",
      "252/252 [==============================] - 0s 217us/step - loss: 124096131.0159 - mae: 8953.8975\n",
      "Epoch 74/100\n",
      "252/252 [==============================] - 0s 213us/step - loss: 116015622.9365 - mae: 8803.7227\n",
      "Epoch 75/100\n",
      "252/252 [==============================] - 0s 194us/step - loss: 152266060.3175 - mae: 10111.3750\n",
      "Epoch 76/100\n",
      "252/252 [==============================] - 0s 130us/step - loss: 115119463.9365 - mae: 8978.5527\n",
      "Epoch 77/100\n",
      "252/252 [==============================] - 0s 264us/step - loss: 122969191.3333 - mae: 8998.7197\n",
      "Epoch 78/100\n",
      "252/252 [==============================] - 0s 130us/step - loss: 118735206.7460 - mae: 8751.6641\n",
      "Epoch 79/100\n",
      "252/252 [==============================] - 0s 184us/step - loss: 129975993.6190 - mae: 9410.0303\n",
      "Epoch 80/100\n",
      "252/252 [==============================] - 0s 183us/step - loss: 159905088.4127 - mae: 10116.9541\n",
      "Epoch 81/100\n",
      "252/252 [==============================] - 0s 206us/step - loss: 134153044.7937 - mae: 9490.4932\n",
      "Epoch 82/100\n",
      "252/252 [==============================] - 0s 191us/step - loss: 113111879.4603 - mae: 8829.9316\n",
      "Epoch 83/100\n",
      "252/252 [==============================] - 0s 179us/step - loss: 129517733.1746 - mae: 9493.6777\n",
      "Epoch 84/100\n",
      "252/252 [==============================] - 0s 200us/step - loss: 130620963.5873 - mae: 9178.3096\n",
      "Epoch 85/100\n",
      "252/252 [==============================] - 0s 185us/step - loss: 103557615.8095 - mae: 8199.1465\n",
      "Epoch 86/100\n",
      "252/252 [==============================] - 0s 191us/step - loss: 114468504.2540 - mae: 8623.4072\n",
      "Epoch 87/100\n",
      "252/252 [==============================] - 0s 191us/step - loss: 124342055.5873 - mae: 9212.3105\n",
      "Epoch 88/100\n",
      "252/252 [==============================] - 0s 183us/step - loss: 105647701.1587 - mae: 8565.9219\n",
      "Epoch 89/100\n",
      "252/252 [==============================] - 0s 192us/step - loss: 127963927.9683 - mae: 9268.7148\n",
      "Epoch 90/100\n",
      "252/252 [==============================] - 0s 167us/step - loss: 102556199.6825 - mae: 8485.5713\n",
      "Epoch 91/100\n",
      "252/252 [==============================] - 0s 213us/step - loss: 116319495.5159 - mae: 8644.5928\n",
      "Epoch 92/100\n",
      "252/252 [==============================] - 0s 195us/step - loss: 140047960.4762 - mae: 9449.4541\n",
      "Epoch 93/100\n",
      "252/252 [==============================] - 0s 203us/step - loss: 130314783.3333 - mae: 9128.3223\n",
      "Epoch 94/100\n",
      "252/252 [==============================] - 0s 164us/step - loss: 112290377.6825 - mae: 8619.3457\n",
      "Epoch 95/100\n",
      "252/252 [==============================] - 0s 221us/step - loss: 110476160.2857 - mae: 8235.7871\n",
      "Epoch 96/100\n",
      "252/252 [==============================] - 0s 191us/step - loss: 147335193.5873 - mae: 10162.7969\n",
      "Epoch 97/100\n",
      "252/252 [==============================] - 0s 202us/step - loss: 119200054.8571 - mae: 8883.0254\n",
      "Epoch 98/100\n",
      "252/252 [==============================] - 0s 203us/step - loss: 117379043.8889 - mae: 8474.6953\n",
      "Epoch 99/100\n",
      "252/252 [==============================] - 0s 187us/step - loss: 116529911.0952 - mae: 8969.7939\n",
      "Epoch 100/100\n",
      "252/252 [==============================] - 0s 194us/step - loss: 104622524.2857 - mae: 8274.4307\n"
     ]
    },
    {
     "data": {
      "text/plain": [
       "<keras.callbacks.callbacks.History at 0x2b025984eb8>"
      ]
     },
     "execution_count": 8,
     "metadata": {},
     "output_type": "execute_result"
    }
   ],
   "source": [
    "#3. 훈련\n",
    "model.compile(loss='mse', optimizer='adam', metrics=['mae'])\n",
    "model.fit(x_train, y_train, epochs=100, batch_size=10, verbose=1)"
   ]
  },
  {
   "cell_type": "code",
   "execution_count": 9,
   "metadata": {},
   "outputs": [
    {
     "name": "stdout",
     "output_type": "stream",
     "text": [
      "84/84 [==============================] - 0s 1ms/step\n",
      "evaluation:[11863795.228794644, 2986.041748046875]\n"
     ]
    }
   ],
   "source": [
    "#4. 평가예측\n",
    "evaluation = model.evaluate(x_test, y_test, batch_size=1)\n",
    "print(\"evaluation:{}\".format(evaluation))"
   ]
  },
  {
   "cell_type": "code",
   "execution_count": 32,
   "metadata": {},
   "outputs": [],
   "source": [
    "# RMSE 만들기\n",
    "from sklearn.metrics import mean_squared_error\n",
    "y_predict = model.predict(predict, batch_size=1)\n",
    "y_test_predict = model.predict(x_test, batch_size=1)"
   ]
  },
  {
   "cell_type": "code",
   "execution_count": 17,
   "metadata": {},
   "outputs": [
    {
     "name": "stdout",
     "output_type": "stream",
     "text": [
      "종가(test) : [42263.69]\n",
      "종가(pred) : [[42263.69]]\n"
     ]
    }
   ],
   "source": [
    "print(\"종가(test) : {}\".format(y_test_predict[1]))\n",
    "print(\"종가(pred) : {}\".format(y_predict))"
   ]
  },
  {
   "cell_type": "code",
   "execution_count": null,
   "metadata": {},
   "outputs": [],
   "source": []
  }
 ],
 "metadata": {
  "kernelspec": {
   "display_name": "Python 3",
   "language": "python",
   "name": "python3"
  },
  "language_info": {
   "codemirror_mode": {
    "name": "ipython",
    "version": 3
   },
   "file_extension": ".py",
   "mimetype": "text/x-python",
   "name": "python",
   "nbconvert_exporter": "python",
   "pygments_lexer": "ipython3",
   "version": "3.7.3"
  }
 },
 "nbformat": 4,
 "nbformat_minor": 2
}
