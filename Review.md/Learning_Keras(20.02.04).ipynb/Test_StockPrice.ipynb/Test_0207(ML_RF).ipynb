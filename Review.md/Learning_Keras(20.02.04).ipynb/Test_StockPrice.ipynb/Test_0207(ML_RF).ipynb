{
 "cells": [
  {
   "cell_type": "markdown",
   "metadata": {},
   "source": [
    "<br>\n",
    "\n",
    "## 머신러닝 회귀모델로 예측해보기"
   ]
  },
  {
   "cell_type": "code",
   "execution_count": 1,
   "metadata": {},
   "outputs": [],
   "source": [
    "# 데이터 준비 \n",
    "import pandas as pd\n",
    "import numpy as np\n",
    "\n",
    "samsung_data = pd.read_csv('samsung.csv', encoding='cp949', thousands=',')\n",
    "samsung_data = pd.DataFrame(samsung_data).sort_index(ascending=False)\n",
    "\n",
    "del(samsung_data['일자'])\n",
    "samsung = np.array(samsung_data)\n",
    "\n",
    "samsung_target = pd.read_excel('samsung0206.xlsx', encoding='cp949', thousands=',')\n",
    "samsung_target = pd.DataFrame(samsung_target).sort_index(ascending=False)\n",
    "\n",
    "del(samsung_target['Unnamed: 0'])\n",
    "predict = np.array(samsung_target)\n",
    "\n",
    "# 데이터 셋 준비\n",
    "x = []\n",
    "y = []\n",
    "\n",
    "# print(samsung_data.iloc[1:6, :], samsung_data.iloc[6,3])  >>> 예시\n",
    "for i in range(1, len(samsung)-4, +1):\n",
    "    x_tmp = samsung[i:i+4, :]   # (5행 5열 데이터 뽑아서 넣어줘)\n",
    "    y_tmp = samsung[i+4, 3]     # x데이터 바로 다음 행의 종가 데이터 알려줘\n",
    "    \n",
    "    x.append(x_tmp)\n",
    "    y.append(y_tmp)\n",
    "########################################################################\n",
    "x = np.array(x)\n",
    "y = np.array(y)\n",
    "\n",
    "# Data split하기\n",
    "from sklearn.model_selection import train_test_split\n",
    "\n",
    "x_train, x_test , y_train, y_test = train_test_split(x, y,\n",
    "                                                     test_size=0.4,\n",
    "                                                     shuffle = False)\n",
    "x_test, x_val , y_test, y_val = train_test_split(x_test, y_test,\n",
    "                                                     test_size=0.5,\n",
    "                                                     shuffle = False)"
   ]
  },
  {
   "cell_type": "code",
   "execution_count": 12,
   "metadata": {},
   "outputs": [
    {
     "data": {
      "text/plain": [
       "array([50100, 49200, 49850, 49400, 49500, 50000, 51800, 51400, 52700,\n",
       "       52300, 51300, 49500, 50700, 51300, 51100, 51300, 50600, 49650,\n",
       "       49900, 49400, 48200, 47650, 46600, 47000, 47000, 47050, 47250,\n",
       "       46650, 47000, 47950, 46800, 46650, 45550, 46150, 46250, 45950,\n",
       "       44900, 45600, 46300, 46000, 45500, 46500, 46050, 45850, 46550,\n",
       "       46900, 47450, 46500, 46150, 46150, 46900, 46900, 46500, 46250,\n",
       "       46550, 45550, 45750, 45800, 46700, 46800, 46900, 45400, 45050,\n",
       "       45150, 44250, 44100, 43850, 44800, 46100, 46200, 46150, 46300,\n",
       "       46550, 46800, 47650, 48450, 47450, 47650, 46600, 46100, 44900,\n",
       "       45500, 45050, 44550, 44050, 45850, 45150, 45500, 46150, 47250,\n",
       "       47400, 47500, 46450, 46350, 45700, 44700, 44700, 44950, 45300,\n",
       "       43100, 44000, 43800, 43600, 44150, 44050, 43900, 43550, 43050,\n",
       "       42550, 41000, 41000, 41400, 42350, 42400, 42150, 44150, 43800,\n",
       "       43750, 44000, 44050, 44300, 45200, 44500, 44100, 44250, 44000,\n",
       "       43650, 42800, 42100, 42450, 42400, 42600, 43050, 43150, 43150,\n",
       "       41850, 43250, 42150, 41450, 40500, 40950, 40200, 40250, 40450,\n",
       "       40000, 38950, 39150, 38900, 39100, 38650, 38650, 38800, 38350,\n",
       "       38250, 38700, 38750, 37600, 37450, 38750, 38100, 39600, 39800,\n",
       "       40500, 40050, 41100, 41450, 41950, 42300, 42750, 42150, 42000,\n",
       "       43050, 44750, 45050, 45500, 46400, 46150, 46350, 46200, 44800,\n",
       "       45000, 46050, 46200, 47500, 46050, 46200, 45950, 46900, 46950,\n",
       "       47150, 47350, 46750, 46750, 45100, 44850, 44250, 44000, 44450,\n",
       "       43800, 43650, 44650, 43850, 43850, 44200, 43700, 43900, 44050,\n",
       "       45850, 46550, 45500, 45250, 45350, 44850, 44650, 45050, 45750,\n",
       "       46600, 46950, 46850, 46650, 46650, 46700, 46250, 46850, 47050,\n",
       "       47250, 47050, 45600, 45300, 45350, 45200, 44750, 44650, 44850,\n",
       "       46150, 45850, 45900, 45300, 44850, 44250, 42450, 42900, 42650,\n",
       "       42650, 42550, 41550, 41200, 42000, 43150, 43500, 43850, 42700,\n",
       "       42650, 42550, 41800, 42550, 42500, 43800, 43450, 43900, 44200,\n",
       "       44800, 44850, 44600, 43750, 44000, 43900, 44350, 45350, 45500,\n",
       "       45700, 45500, 45600, 45700, 46500, 47000, 46600, 46250, 45400,\n",
       "       46000, 45650, 44400, 45100, 45550, 46200, 46300, 46450, 46850,\n",
       "       46050, 46100, 46800, 47200, 47300, 46400, 47200, 47150, 46100,\n",
       "       46550, 45350, 45200, 44950, 43950, 43500, 43200, 42650, 43150,\n",
       "       43700, 43000, 43700, 43900, 43600, 44450, 44500, 44050, 43950,\n",
       "       43600, 44050, 44150, 43400, 44000, 43800, 43250, 44100, 45700,\n",
       "       46300, 46900, 47000, 47150, 47100, 46900, 47700, 49150, 49200,\n",
       "       49300, 49500, 48900, 49200, 48400, 49050, 48850, 47600, 48000,\n",
       "       47750, 48900, 48550, 49150, 50000, 50100, 50700, 50500, 49900,\n",
       "       50300, 51200, 51200, 50700, 50900, 51300, 51100, 50400, 50400,\n",
       "       51200, 52300, 52700, 53300, 52900, 52100, 51600, 52600, 52500,\n",
       "       52800, 53700, 53500, 53500, 52000, 51000, 51600, 51800, 51800,\n",
       "       52200, 51300, 50300, 50400, 49900, 49450, 49500, 50400, 51200,\n",
       "       51500, 51900, 53300, 54700, 54700, 56700, 56300, 56000, 56000,\n",
       "       55500, 55000, 55400, 56500, 55800, 55200, 55500, 55500, 55800,\n",
       "       56800, 58600, 59500, 60000, 60000, 59000, 60700, 61300, 62400,\n",
       "       61400, 62300, 60800, 58800, 59100, 57200, 56400], dtype=int64)"
      ]
     },
     "execution_count": 12,
     "metadata": {},
     "output_type": "execute_result"
    }
   ],
   "source": [
    "y"
   ]
  },
  {
   "cell_type": "code",
   "execution_count": 2,
   "metadata": {},
   "outputs": [
    {
     "name": "stdout",
     "output_type": "stream",
     "text": [
      "(252, 4, 5) (84, 4, 5) (85, 4, 5)\n",
      "(252,) (84,) (85,)\n"
     ]
    }
   ],
   "source": [
    "print(x_train.shape, x_test.shape, x_val.shape)\n",
    "print(y_train.shape, y_test.shape, y_val.shape)"
   ]
  },
  {
   "cell_type": "code",
   "execution_count": 3,
   "metadata": {},
   "outputs": [],
   "source": [
    "x_train = x_train.reshape(x_train.shape[0], 4*5)\n",
    "x_test = x_test.reshape(x_test.shape[0], 4*5)\n",
    "x_val = x_val.reshape(x_val.shape[0], 4*5)\n",
    "predict = predict.reshape(1,4*5)"
   ]
  },
  {
   "cell_type": "code",
   "execution_count": 4,
   "metadata": {
    "scrolled": true
   },
   "outputs": [
    {
     "name": "stdout",
     "output_type": "stream",
     "text": [
      "훈련 MSE : 85110.28208333337 , 테스트 MSE : 438687.52922619047\n",
      "훈련 R2 : 0.9897972896711751 , 테스트 R2 : 0.854410237623476\n"
     ]
    }
   ],
   "source": [
    "from sklearn.ensemble import RandomForestRegressor\n",
    "\n",
    "forest = RandomForestRegressor(n_estimators=1000,\n",
    "                               criterion='mse',\n",
    "                               random_state=1,\n",
    "                               n_jobs=-1)\n",
    "\n",
    "forest.fit(x_train, y_train)\n",
    "\n",
    "y_train_predict = forest.predict(x_train)\n",
    "y_test_predict = forest.predict(x_test)\n",
    "y_predict = forest.predict(predict)\n",
    "\n",
    "from sklearn.metrics import mean_squared_error\n",
    "print(\"훈련 MSE : {} , 테스트 MSE : {}\".format(\n",
    "    mean_squared_error(y_train, y_train_predict),\n",
    "    mean_squared_error(y_test, y_test_predict)))\n",
    "\n",
    "from sklearn.metrics import r2_score\n",
    "print(\"훈련 R2 : {} , 테스트 R2 : {}\".format(\n",
    "    r2_score(y_train, y_train_predict),\n",
    "    r2_score(y_test, y_test_predict)))"
   ]
  },
  {
   "cell_type": "code",
   "execution_count": 5,
   "metadata": {},
   "outputs": [
    {
     "name": "stdout",
     "output_type": "stream",
     "text": [
      "종가(test) : 48784.35\n",
      "종가(pred) : [50607.85]\n"
     ]
    }
   ],
   "source": [
    "print(\"종가(test) : {}\".format(y_test_predict[len(y_test_predict)-1]))\n",
    "print(\"종가(pred) : {}\".format(y_predict))    "
   ]
  },
  {
   "cell_type": "code",
   "execution_count": 7,
   "metadata": {},
   "outputs": [
    {
     "data": {
      "image/png": "[encoded data removed]",
      "text/plain": [
       "<Figure size 432x288 with 1 Axes>"
      ]
     },
     "metadata": {
      "needs_background": "light"
     },
     "output_type": "display_data"
    }
   ],
   "source": [
    "import matplotlib.pyplot as plt\n",
    "\n",
    "# 트레이닝 모델\n",
    "plt.scatter(y_train_predict,\n",
    "            (y_train_predict-y_train),\n",
    "            c='steelblue',\n",
    "            edgecolors='white',\n",
    "            marker='o',\n",
    "            s=35,\n",
    "            alpha=0.9,\n",
    "            label=\"Training Data\")\n",
    "# 테스트 모델\n",
    "plt.scatter(y_test_predict,\n",
    "            (y_test_predict-y_test),\n",
    "            c='limegreen',\n",
    "            edgecolors='white',\n",
    "            marker='s',\n",
    "            s=35,\n",
    "            alpha=0.9,\n",
    "            label=\"Test Data\")\n",
    "\n",
    "plt.xlabel('Predicted values')\n",
    "plt.ylabel('Residuals')\n",
    "plt.legend(loc='upper left')\n",
    "plt.tight_layout()\n",
    "plt.show()"
   ]
  },
  {
   "cell_type": "code",
   "execution_count": null,
   "metadata": {},
   "outputs": [],
   "source": []
  }
 ],
 "metadata": {
  "kernelspec": {
   "display_name": "Python 3",
   "language": "python",
   "name": "python3"
  },
  "language_info": {
   "codemirror_mode": {
    "name": "ipython",
    "version": 3
   },
   "file_extension": ".py",
   "mimetype": "text/x-python",
   "name": "python",
   "nbconvert_exporter": "python",
   "pygments_lexer": "ipython3",
   "version": "3.7.3"
  }
 },
 "nbformat": 4,
 "nbformat_minor": 2
}
