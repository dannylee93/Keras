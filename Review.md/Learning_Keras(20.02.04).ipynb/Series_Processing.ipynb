{
 "cells": [
  {
   "cell_type": "markdown",
   "metadata": {},
   "source": [
    "<br>\n",
    "\n",
    "## 시계열 데이터 전처리 학습"
   ]
  },
  {
   "cell_type": "code",
   "execution_count": 1,
   "metadata": {},
   "outputs": [],
   "source": [
    "# 필요한 모듈 불러오기\n",
    "import pandas as pd"
   ]
  },
  {
   "cell_type": "code",
   "execution_count": 2,
   "metadata": {},
   "outputs": [],
   "source": [
    "# 데이터 적재\n",
    "samsung_df = pd.read_csv('samsung.csv', index_col=0, header=0, encoding='cp949', sep=',')\n",
    "kospi_df = pd.read_csv('kospi200.csv', index_col=0, header=0, encoding='cp949', sep=',')\n",
    "\n",
    "# 데이터 str to int\n",
    "for col in range(len(samsung_df.columns)):\n",
    "    for idx in range(len(samsung_df)):\n",
    "        samsung_df.iloc[idx, col] = int(samsung_df.iloc[idx, col].replace(',', ''))\n",
    "for i in range(len(kospi_df.index)):                       \n",
    "    kospi_df.iloc[i,4] = int(kospi_df.iloc[i,4].replace(',',''))"
   ]
  },
  {
   "cell_type": "code",
   "execution_count": 3,
   "metadata": {},
   "outputs": [
    {
     "data": {
      "text/plain": [
       "Index(['2020-01-31', '2020-01-30', '2020-01-29', '2020-01-28', '2020-01-23',\n",
       "       '2020-01-22', '2020-01-21', '2020-01-20', '2020-01-17', '2020-01-16',\n",
       "       ...\n",
       "       '2018-05-18', '2018-05-17', '2018-05-16', '2018-05-15', '2018-05-14',\n",
       "       '2018-05-11', '2018-05-10', '2018-05-09', '2018-05-08', '2018-05-04'],\n",
       "      dtype='object', length=426)"
      ]
     },
     "execution_count": 3,
     "metadata": {},
     "output_type": "execute_result"
    }
   ],
   "source": [
    "kospi_df.index"
   ]
  },
  {
   "cell_type": "code",
   "execution_count": 4,
   "metadata": {},
   "outputs": [
    {
     "data": {
      "text/html": [
       "<div>\n",
       "<style scoped>\n",
       "    .dataframe tbody tr th:only-of-type {\n",
       "        vertical-align: middle;\n",
       "    }\n",
       "\n",
       "    .dataframe tbody tr th {\n",
       "        vertical-align: top;\n",
       "    }\n",
       "\n",
       "    .dataframe thead th {\n",
       "        text-align: right;\n",
       "    }\n",
       "</style>\n",
       "<table border=\"1\" class=\"dataframe\">\n",
       "  <thead>\n",
       "    <tr style=\"text-align: right;\">\n",
       "      <th></th>\n",
       "      <th>open</th>\n",
       "      <th>high</th>\n",
       "      <th>low</th>\n",
       "      <th>now</th>\n",
       "      <th>volume</th>\n",
       "    </tr>\n",
       "  </thead>\n",
       "  <tbody>\n",
       "    <tr>\n",
       "      <th>2020-01-31</th>\n",
       "      <td>290.24</td>\n",
       "      <td>291.47</td>\n",
       "      <td>284.53</td>\n",
       "      <td>284.53</td>\n",
       "      <td>101455</td>\n",
       "    </tr>\n",
       "    <tr>\n",
       "      <th>2020-01-30</th>\n",
       "      <td>293.27</td>\n",
       "      <td>294.11</td>\n",
       "      <td>287.09</td>\n",
       "      <td>288.37</td>\n",
       "      <td>101535</td>\n",
       "    </tr>\n",
       "    <tr>\n",
       "      <th>2020-01-29</th>\n",
       "      <td>294.38</td>\n",
       "      <td>295.67</td>\n",
       "      <td>292.45</td>\n",
       "      <td>293.98</td>\n",
       "      <td>85731</td>\n",
       "    </tr>\n",
       "    <tr>\n",
       "      <th>2020-01-28</th>\n",
       "      <td>294.98</td>\n",
       "      <td>296.30</td>\n",
       "      <td>291.30</td>\n",
       "      <td>292.77</td>\n",
       "      <td>130172</td>\n",
       "    </tr>\n",
       "    <tr>\n",
       "      <th>2020-01-23</th>\n",
       "      <td>303.77</td>\n",
       "      <td>304.72</td>\n",
       "      <td>301.71</td>\n",
       "      <td>302.33</td>\n",
       "      <td>86908</td>\n",
       "    </tr>\n",
       "  </tbody>\n",
       "</table>\n",
       "</div>"
      ],
      "text/plain": [
       "              open    high     low     now  volume\n",
       "2020-01-31  290.24  291.47  284.53  284.53  101455\n",
       "2020-01-30  293.27  294.11  287.09  288.37  101535\n",
       "2020-01-29  294.38  295.67  292.45  293.98   85731\n",
       "2020-01-28  294.98  296.30  291.30  292.77  130172\n",
       "2020-01-23  303.77  304.72  301.71  302.33   86908"
      ]
     },
     "execution_count": 4,
     "metadata": {},
     "output_type": "execute_result"
    }
   ],
   "source": [
    "kospi_df.head()"
   ]
  },
  {
   "cell_type": "code",
   "execution_count": 5,
   "metadata": {
    "scrolled": true
   },
   "outputs": [
    {
     "data": {
      "text/html": [
       "<div>\n",
       "<style scoped>\n",
       "    .dataframe tbody tr th:only-of-type {\n",
       "        vertical-align: middle;\n",
       "    }\n",
       "\n",
       "    .dataframe tbody tr th {\n",
       "        vertical-align: top;\n",
       "    }\n",
       "\n",
       "    .dataframe thead th {\n",
       "        text-align: right;\n",
       "    }\n",
       "</style>\n",
       "<table border=\"1\" class=\"dataframe\">\n",
       "  <thead>\n",
       "    <tr style=\"text-align: right;\">\n",
       "      <th></th>\n",
       "      <th>open</th>\n",
       "      <th>high</th>\n",
       "      <th>low</th>\n",
       "      <th>close</th>\n",
       "      <th>volume</th>\n",
       "    </tr>\n",
       "  </thead>\n",
       "  <tbody>\n",
       "    <tr>\n",
       "      <th>2020-01-31</th>\n",
       "      <td>57800</td>\n",
       "      <td>58400</td>\n",
       "      <td>56400</td>\n",
       "      <td>56400</td>\n",
       "      <td>19749457</td>\n",
       "    </tr>\n",
       "    <tr>\n",
       "      <th>2020-01-30</th>\n",
       "      <td>58800</td>\n",
       "      <td>58800</td>\n",
       "      <td>56800</td>\n",
       "      <td>57200</td>\n",
       "      <td>20821939</td>\n",
       "    </tr>\n",
       "    <tr>\n",
       "      <th>2020-01-29</th>\n",
       "      <td>59100</td>\n",
       "      <td>59700</td>\n",
       "      <td>58800</td>\n",
       "      <td>59100</td>\n",
       "      <td>16446102</td>\n",
       "    </tr>\n",
       "    <tr>\n",
       "      <th>2020-01-28</th>\n",
       "      <td>59400</td>\n",
       "      <td>59400</td>\n",
       "      <td>58300</td>\n",
       "      <td>58800</td>\n",
       "      <td>23664541</td>\n",
       "    </tr>\n",
       "    <tr>\n",
       "      <th>2020-01-23</th>\n",
       "      <td>61800</td>\n",
       "      <td>61800</td>\n",
       "      <td>60700</td>\n",
       "      <td>60800</td>\n",
       "      <td>14916555</td>\n",
       "    </tr>\n",
       "  </tbody>\n",
       "</table>\n",
       "</div>"
      ],
      "text/plain": [
       "             open   high    low  close    volume\n",
       "2020-01-31  57800  58400  56400  56400  19749457\n",
       "2020-01-30  58800  58800  56800  57200  20821939\n",
       "2020-01-29  59100  59700  58800  59100  16446102\n",
       "2020-01-28  59400  59400  58300  58800  23664541\n",
       "2020-01-23  61800  61800  60700  60800  14916555"
      ]
     },
     "execution_count": 5,
     "metadata": {},
     "output_type": "execute_result"
    }
   ],
   "source": [
    "samsung_df.head()"
   ]
  },
  {
   "cell_type": "code",
   "execution_count": 6,
   "metadata": {},
   "outputs": [],
   "source": [
    "# 월별로 묶어주기 위한 전 단계로, object를 datetime 형식으로 변환\n",
    "samsung_df.index = pd.to_datetime(samsung_df.index)\n",
    "kospi_df.index = pd.to_datetime(kospi_df.index)"
   ]
  },
  {
   "cell_type": "code",
   "execution_count": 7,
   "metadata": {},
   "outputs": [
    {
     "data": {
      "text/html": [
       "<div>\n",
       "<style scoped>\n",
       "    .dataframe tbody tr th:only-of-type {\n",
       "        vertical-align: middle;\n",
       "    }\n",
       "\n",
       "    .dataframe tbody tr th {\n",
       "        vertical-align: top;\n",
       "    }\n",
       "\n",
       "    .dataframe thead th {\n",
       "        text-align: right;\n",
       "    }\n",
       "</style>\n",
       "<table border=\"1\" class=\"dataframe\">\n",
       "  <thead>\n",
       "    <tr style=\"text-align: right;\">\n",
       "      <th></th>\n",
       "      <th>close</th>\n",
       "    </tr>\n",
       "  </thead>\n",
       "  <tbody>\n",
       "    <tr>\n",
       "      <th>2020-01</th>\n",
       "      <td>56400</td>\n",
       "    </tr>\n",
       "    <tr>\n",
       "      <th>2020-01</th>\n",
       "      <td>57200</td>\n",
       "    </tr>\n",
       "    <tr>\n",
       "      <th>2020-01</th>\n",
       "      <td>59100</td>\n",
       "    </tr>\n",
       "    <tr>\n",
       "      <th>2020-01</th>\n",
       "      <td>58800</td>\n",
       "    </tr>\n",
       "    <tr>\n",
       "      <th>2020-01</th>\n",
       "      <td>60800</td>\n",
       "    </tr>\n",
       "    <tr>\n",
       "      <th>...</th>\n",
       "      <td>...</td>\n",
       "    </tr>\n",
       "    <tr>\n",
       "      <th>2018-05</th>\n",
       "      <td>51300</td>\n",
       "    </tr>\n",
       "    <tr>\n",
       "      <th>2018-05</th>\n",
       "      <td>51600</td>\n",
       "    </tr>\n",
       "    <tr>\n",
       "      <th>2018-05</th>\n",
       "      <td>50900</td>\n",
       "    </tr>\n",
       "    <tr>\n",
       "      <th>2018-05</th>\n",
       "      <td>52600</td>\n",
       "    </tr>\n",
       "    <tr>\n",
       "      <th>2018-05</th>\n",
       "      <td>51900</td>\n",
       "    </tr>\n",
       "  </tbody>\n",
       "</table>\n",
       "<p>426 rows × 1 columns</p>\n",
       "</div>"
      ],
      "text/plain": [
       "         close\n",
       "2020-01  56400\n",
       "2020-01  57200\n",
       "2020-01  59100\n",
       "2020-01  58800\n",
       "2020-01  60800\n",
       "...        ...\n",
       "2018-05  51300\n",
       "2018-05  51600\n",
       "2018-05  50900\n",
       "2018-05  52600\n",
       "2018-05  51900\n",
       "\n",
       "[426 rows x 1 columns]"
      ]
     },
     "execution_count": 7,
     "metadata": {},
     "output_type": "execute_result"
    }
   ],
   "source": [
    "# '연월일'을 '연월' 로 묶어주기\n",
    "tmp = samsung_df[['close']].to_period('1M')\n",
    "tmp"
   ]
  },
  {
   "cell_type": "code",
   "execution_count": 8,
   "metadata": {},
   "outputs": [
    {
     "data": {
      "text/html": [
       "<div>\n",
       "<style scoped>\n",
       "    .dataframe tbody tr th:only-of-type {\n",
       "        vertical-align: middle;\n",
       "    }\n",
       "\n",
       "    .dataframe tbody tr th {\n",
       "        vertical-align: top;\n",
       "    }\n",
       "\n",
       "    .dataframe thead th {\n",
       "        text-align: right;\n",
       "    }\n",
       "</style>\n",
       "<table border=\"1\" class=\"dataframe\">\n",
       "  <thead>\n",
       "    <tr style=\"text-align: right;\">\n",
       "      <th></th>\n",
       "      <th>now</th>\n",
       "    </tr>\n",
       "  </thead>\n",
       "  <tbody>\n",
       "    <tr>\n",
       "      <th>2020-01</th>\n",
       "      <td>284.53</td>\n",
       "    </tr>\n",
       "    <tr>\n",
       "      <th>2020-01</th>\n",
       "      <td>288.37</td>\n",
       "    </tr>\n",
       "    <tr>\n",
       "      <th>2020-01</th>\n",
       "      <td>293.98</td>\n",
       "    </tr>\n",
       "    <tr>\n",
       "      <th>2020-01</th>\n",
       "      <td>292.77</td>\n",
       "    </tr>\n",
       "    <tr>\n",
       "      <th>2020-01</th>\n",
       "      <td>302.33</td>\n",
       "    </tr>\n",
       "    <tr>\n",
       "      <th>...</th>\n",
       "      <td>...</td>\n",
       "    </tr>\n",
       "    <tr>\n",
       "      <th>2018-05</th>\n",
       "      <td>318.51</td>\n",
       "    </tr>\n",
       "    <tr>\n",
       "      <th>2018-05</th>\n",
       "      <td>317.31</td>\n",
       "    </tr>\n",
       "    <tr>\n",
       "      <th>2018-05</th>\n",
       "      <td>314.42</td>\n",
       "    </tr>\n",
       "    <tr>\n",
       "      <th>2018-05</th>\n",
       "      <td>315.87</td>\n",
       "    </tr>\n",
       "    <tr>\n",
       "      <th>2018-05</th>\n",
       "      <td>316.75</td>\n",
       "    </tr>\n",
       "  </tbody>\n",
       "</table>\n",
       "<p>426 rows × 1 columns</p>\n",
       "</div>"
      ],
      "text/plain": [
       "            now\n",
       "2020-01  284.53\n",
       "2020-01  288.37\n",
       "2020-01  293.98\n",
       "2020-01  292.77\n",
       "2020-01  302.33\n",
       "...         ...\n",
       "2018-05  318.51\n",
       "2018-05  317.31\n",
       "2018-05  314.42\n",
       "2018-05  315.87\n",
       "2018-05  316.75\n",
       "\n",
       "[426 rows x 1 columns]"
      ]
     },
     "execution_count": 8,
     "metadata": {},
     "output_type": "execute_result"
    }
   ],
   "source": [
    "tmp2 = kospi_df[['now']].to_period('1M')\n",
    "tmp2"
   ]
  },
  {
   "cell_type": "code",
   "execution_count": 31,
   "metadata": {},
   "outputs": [
    {
     "data": {
      "text/plain": [
       "now    315.922778\n",
       "dtype: float64"
      ]
     },
     "execution_count": 31,
     "metadata": {},
     "output_type": "execute_result"
    }
   ],
   "source": [
    "# 월별 평균이 이루어 지는지 체크(아래에 '열 이름', 데이터, 데이터 타입 등 많은 정보가 입력된다.)\n",
    "tmp2.loc['2018-05'].mean()"
   ]
  },
  {
   "cell_type": "code",
   "execution_count": 30,
   "metadata": {},
   "outputs": [
    {
     "data": {
      "text/plain": [
       "315.9227777777778"
      ]
     },
     "execution_count": 30,
     "metadata": {},
     "output_type": "execute_result"
    }
   ],
   "source": [
    "# float()를 통해서 데이터만 추출\n",
    "float(tmp2.loc['2018-05'].mean())"
   ]
  },
  {
   "cell_type": "code",
   "execution_count": 11,
   "metadata": {},
   "outputs": [],
   "source": [
    "# 평균 데이터 추출을 편하게 위해 임의로 데이터 저장\n",
    "years = ['2020', '2019', '2018']\n",
    "months = ['01','02','03','04','05','06','07','08', '09',\n",
    "          '10','11','12']"
   ]
  },
  {
   "cell_type": "code",
   "execution_count": 12,
   "metadata": {},
   "outputs": [
    {
     "data": {
      "text/plain": [
       "12"
      ]
     },
     "execution_count": 12,
     "metadata": {},
     "output_type": "execute_result"
    }
   ],
   "source": [
    "len(months)"
   ]
  },
  {
   "cell_type": "code",
   "execution_count": 13,
   "metadata": {},
   "outputs": [],
   "source": [
    "# 최종 데이터를 담을 객체 생성\n",
    "means = []\n",
    "values = []\n",
    "values2 = []\n",
    "\n",
    "# '연월' 에 대한 데이터를 저장\n",
    "for year in years:\n",
    "    for month in months:\n",
    "        try:\n",
    "            if '{}-{}'.format(year, month) in tmp.index:\n",
    "                means.append('{}-{}'.format(year, month))\n",
    "                values.append(float(tmp.loc['{}-{}'.format(year, month)].mean()))\n",
    "                values2.append(float(tmp2.loc['{}-{}'.format(year, month)].mean()))\n",
    "        except:\n",
    "            exit"
   ]
  },
  {
   "cell_type": "code",
   "execution_count": 14,
   "metadata": {},
   "outputs": [
    {
     "data": {
      "text/plain": [
       "['2020-01',\n",
       " '2019-01',\n",
       " '2019-02',\n",
       " '2019-03',\n",
       " '2019-04',\n",
       " '2019-05',\n",
       " '2019-06',\n",
       " '2019-07',\n",
       " '2019-08',\n",
       " '2019-09',\n",
       " '2019-10',\n",
       " '2019-11',\n",
       " '2019-12',\n",
       " '2018-05',\n",
       " '2018-06',\n",
       " '2018-07',\n",
       " '2018-08',\n",
       " '2018-09',\n",
       " '2018-10',\n",
       " '2018-11',\n",
       " '2018-12']"
      ]
     },
     "execution_count": 14,
     "metadata": {},
     "output_type": "execute_result"
    }
   ],
   "source": [
    "means"
   ]
  },
  {
   "cell_type": "code",
   "execution_count": 15,
   "metadata": {},
   "outputs": [
    {
     "data": {
      "text/plain": [
       "[58815.0,\n",
       " 41600.0,\n",
       " 46308.82352941176,\n",
       " 44560.0,\n",
       " 46061.36363636364,\n",
       " 43023.80952380953,\n",
       " 44865.78947368421,\n",
       " 46215.217391304344,\n",
       " 43840.47619047619,\n",
       " 47294.73684210526,\n",
       " 49880.95238095238,\n",
       " 52223.80952380953,\n",
       " 53507.5,\n",
       " 50891.666666666664,\n",
       " 48371.05263157895,\n",
       " 46220.454545454544,\n",
       " 45947.72727272727,\n",
       " 46064.705882352944,\n",
       " 43600.0,\n",
       " 43429.545454545456,\n",
       " 39826.31578947369]"
      ]
     },
     "execution_count": 15,
     "metadata": {},
     "output_type": "execute_result"
    }
   ],
   "source": [
    "values"
   ]
  },
  {
   "cell_type": "code",
   "execution_count": 16,
   "metadata": {},
   "outputs": [
    {
     "data": {
      "text/plain": [
       "[296.24350000000004,\n",
       " 270.8777272727273,\n",
       " 286.0094117647058,\n",
       " 278.5445,\n",
       " 285.9672727272727,\n",
       " 269.44761904761907,\n",
       " 272.7173684210527,\n",
       " 272.1473913043479,\n",
       " 255.9033333333333,\n",
       " 270.15368421052625,\n",
       " 273.8390476190477,\n",
       " 282.50380952380954,\n",
       " 286.46399999999994,\n",
       " 315.9227777777778,\n",
       " 308.0094736842106,\n",
       " 295.45909090909095,\n",
       " 294.53818181818184,\n",
       " 296.32529411764705,\n",
       " 278.1747619047619,\n",
       " 270.42999999999995,\n",
       " 266.6610526315789]"
      ]
     },
     "execution_count": 16,
     "metadata": {},
     "output_type": "execute_result"
    }
   ],
   "source": [
    "values2"
   ]
  },
  {
   "cell_type": "code",
   "execution_count": 17,
   "metadata": {},
   "outputs": [],
   "source": [
    "dst = {\n",
    "    'samsung':values,\n",
    "    'kospi':values2\n",
    "}"
   ]
  },
  {
   "cell_type": "code",
   "execution_count": 18,
   "metadata": {},
   "outputs": [
    {
     "data": {
      "text/plain": [
       "{'samsung': [58815.0,\n",
       "  41600.0,\n",
       "  46308.82352941176,\n",
       "  44560.0,\n",
       "  46061.36363636364,\n",
       "  43023.80952380953,\n",
       "  44865.78947368421,\n",
       "  46215.217391304344,\n",
       "  43840.47619047619,\n",
       "  47294.73684210526,\n",
       "  49880.95238095238,\n",
       "  52223.80952380953,\n",
       "  53507.5,\n",
       "  50891.666666666664,\n",
       "  48371.05263157895,\n",
       "  46220.454545454544,\n",
       "  45947.72727272727,\n",
       "  46064.705882352944,\n",
       "  43600.0,\n",
       "  43429.545454545456,\n",
       "  39826.31578947369],\n",
       " 'kospi': [296.24350000000004,\n",
       "  270.8777272727273,\n",
       "  286.0094117647058,\n",
       "  278.5445,\n",
       "  285.9672727272727,\n",
       "  269.44761904761907,\n",
       "  272.7173684210527,\n",
       "  272.1473913043479,\n",
       "  255.9033333333333,\n",
       "  270.15368421052625,\n",
       "  273.8390476190477,\n",
       "  282.50380952380954,\n",
       "  286.46399999999994,\n",
       "  315.9227777777778,\n",
       "  308.0094736842106,\n",
       "  295.45909090909095,\n",
       "  294.53818181818184,\n",
       "  296.32529411764705,\n",
       "  278.1747619047619,\n",
       "  270.42999999999995,\n",
       "  266.6610526315789]}"
      ]
     },
     "execution_count": 18,
     "metadata": {},
     "output_type": "execute_result"
    }
   ],
   "source": [
    "dst"
   ]
  },
  {
   "cell_type": "code",
   "execution_count": 19,
   "metadata": {},
   "outputs": [],
   "source": [
    "df = pd.DataFrame(dst, index=means)"
   ]
  },
  {
   "cell_type": "code",
   "execution_count": 20,
   "metadata": {},
   "outputs": [
    {
     "data": {
      "text/html": [
       "<div>\n",
       "<style scoped>\n",
       "    .dataframe tbody tr th:only-of-type {\n",
       "        vertical-align: middle;\n",
       "    }\n",
       "\n",
       "    .dataframe tbody tr th {\n",
       "        vertical-align: top;\n",
       "    }\n",
       "\n",
       "    .dataframe thead th {\n",
       "        text-align: right;\n",
       "    }\n",
       "</style>\n",
       "<table border=\"1\" class=\"dataframe\">\n",
       "  <thead>\n",
       "    <tr style=\"text-align: right;\">\n",
       "      <th></th>\n",
       "      <th>samsung</th>\n",
       "      <th>kospi</th>\n",
       "    </tr>\n",
       "  </thead>\n",
       "  <tbody>\n",
       "    <tr>\n",
       "      <th>2020-01</th>\n",
       "      <td>58815.000000</td>\n",
       "      <td>296.243500</td>\n",
       "    </tr>\n",
       "    <tr>\n",
       "      <th>2019-01</th>\n",
       "      <td>41600.000000</td>\n",
       "      <td>270.877727</td>\n",
       "    </tr>\n",
       "    <tr>\n",
       "      <th>2019-02</th>\n",
       "      <td>46308.823529</td>\n",
       "      <td>286.009412</td>\n",
       "    </tr>\n",
       "    <tr>\n",
       "      <th>2019-03</th>\n",
       "      <td>44560.000000</td>\n",
       "      <td>278.544500</td>\n",
       "    </tr>\n",
       "    <tr>\n",
       "      <th>2019-04</th>\n",
       "      <td>46061.363636</td>\n",
       "      <td>285.967273</td>\n",
       "    </tr>\n",
       "    <tr>\n",
       "      <th>2019-05</th>\n",
       "      <td>43023.809524</td>\n",
       "      <td>269.447619</td>\n",
       "    </tr>\n",
       "    <tr>\n",
       "      <th>2019-06</th>\n",
       "      <td>44865.789474</td>\n",
       "      <td>272.717368</td>\n",
       "    </tr>\n",
       "    <tr>\n",
       "      <th>2019-07</th>\n",
       "      <td>46215.217391</td>\n",
       "      <td>272.147391</td>\n",
       "    </tr>\n",
       "    <tr>\n",
       "      <th>2019-08</th>\n",
       "      <td>43840.476190</td>\n",
       "      <td>255.903333</td>\n",
       "    </tr>\n",
       "    <tr>\n",
       "      <th>2019-09</th>\n",
       "      <td>47294.736842</td>\n",
       "      <td>270.153684</td>\n",
       "    </tr>\n",
       "    <tr>\n",
       "      <th>2019-10</th>\n",
       "      <td>49880.952381</td>\n",
       "      <td>273.839048</td>\n",
       "    </tr>\n",
       "    <tr>\n",
       "      <th>2019-11</th>\n",
       "      <td>52223.809524</td>\n",
       "      <td>282.503810</td>\n",
       "    </tr>\n",
       "    <tr>\n",
       "      <th>2019-12</th>\n",
       "      <td>53507.500000</td>\n",
       "      <td>286.464000</td>\n",
       "    </tr>\n",
       "    <tr>\n",
       "      <th>2018-05</th>\n",
       "      <td>50891.666667</td>\n",
       "      <td>315.922778</td>\n",
       "    </tr>\n",
       "    <tr>\n",
       "      <th>2018-06</th>\n",
       "      <td>48371.052632</td>\n",
       "      <td>308.009474</td>\n",
       "    </tr>\n",
       "    <tr>\n",
       "      <th>2018-07</th>\n",
       "      <td>46220.454545</td>\n",
       "      <td>295.459091</td>\n",
       "    </tr>\n",
       "    <tr>\n",
       "      <th>2018-08</th>\n",
       "      <td>45947.727273</td>\n",
       "      <td>294.538182</td>\n",
       "    </tr>\n",
       "    <tr>\n",
       "      <th>2018-09</th>\n",
       "      <td>46064.705882</td>\n",
       "      <td>296.325294</td>\n",
       "    </tr>\n",
       "    <tr>\n",
       "      <th>2018-10</th>\n",
       "      <td>43600.000000</td>\n",
       "      <td>278.174762</td>\n",
       "    </tr>\n",
       "    <tr>\n",
       "      <th>2018-11</th>\n",
       "      <td>43429.545455</td>\n",
       "      <td>270.430000</td>\n",
       "    </tr>\n",
       "    <tr>\n",
       "      <th>2018-12</th>\n",
       "      <td>39826.315789</td>\n",
       "      <td>266.661053</td>\n",
       "    </tr>\n",
       "  </tbody>\n",
       "</table>\n",
       "</div>"
      ],
      "text/plain": [
       "              samsung       kospi\n",
       "2020-01  58815.000000  296.243500\n",
       "2019-01  41600.000000  270.877727\n",
       "2019-02  46308.823529  286.009412\n",
       "2019-03  44560.000000  278.544500\n",
       "2019-04  46061.363636  285.967273\n",
       "2019-05  43023.809524  269.447619\n",
       "2019-06  44865.789474  272.717368\n",
       "2019-07  46215.217391  272.147391\n",
       "2019-08  43840.476190  255.903333\n",
       "2019-09  47294.736842  270.153684\n",
       "2019-10  49880.952381  273.839048\n",
       "2019-11  52223.809524  282.503810\n",
       "2019-12  53507.500000  286.464000\n",
       "2018-05  50891.666667  315.922778\n",
       "2018-06  48371.052632  308.009474\n",
       "2018-07  46220.454545  295.459091\n",
       "2018-08  45947.727273  294.538182\n",
       "2018-09  46064.705882  296.325294\n",
       "2018-10  43600.000000  278.174762\n",
       "2018-11  43429.545455  270.430000\n",
       "2018-12  39826.315789  266.661053"
      ]
     },
     "execution_count": 20,
     "metadata": {},
     "output_type": "execute_result"
    }
   ],
   "source": [
    "df"
   ]
  },
  {
   "cell_type": "code",
   "execution_count": 120,
   "metadata": {},
   "outputs": [],
   "source": [
    "## 데이터 저장\n",
    "# df.to_excel('submission.xlsx', index=True)"
   ]
  },
  {
   "cell_type": "markdown",
   "metadata": {},
   "source": [
    "<br>\n",
    "\n",
    "## 데이터 시각화"
   ]
  },
  {
   "cell_type": "code",
   "execution_count": 21,
   "metadata": {},
   "outputs": [],
   "source": [
    "import matplotlib.pyplot as plt\n",
    "import matplotlib as mpl\n",
    "%matplotlib inline"
   ]
  },
  {
   "cell_type": "code",
   "execution_count": 22,
   "metadata": {},
   "outputs": [
    {
     "data": {
      "text/plain": [
       "'3.1.1'"
      ]
     },
     "execution_count": 22,
     "metadata": {},
     "output_type": "execute_result"
    }
   ],
   "source": [
    "mpl.__version__"
   ]
  },
  {
   "cell_type": "code",
   "execution_count": 24,
   "metadata": {},
   "outputs": [
    {
     "data": {
      "text/plain": [
       "<matplotlib.axes._subplots.AxesSubplot at 0x2064208cc08>"
      ]
     },
     "execution_count": 24,
     "metadata": {},
     "output_type": "execute_result"
    },
    {
     "data": {
      "image/png": "[encoded data removed]",
      "text/plain": [
       "<Figure size 432x288 with 1 Axes>"
      ]
     },
     "metadata": {
      "needs_background": "light"
     },
     "output_type": "display_data"
    }
   ],
   "source": [
    "# pandas 데이터프레임을 바로 plot으로 그릴 수 있다.\n",
    "df[['samsung']].plot()"
   ]
  },
  {
   "cell_type": "code",
   "execution_count": 25,
   "metadata": {},
   "outputs": [
    {
     "data": {
      "text/plain": [
       "<matplotlib.axes._subplots.AxesSubplot at 0x20642a79b88>"
      ]
     },
     "execution_count": 25,
     "metadata": {},
     "output_type": "execute_result"
    },
    {
     "data": {
      "image/png": "[encoded data removed]",
      "text/plain": [
       "<Figure size 432x288 with 1 Axes>"
      ]
     },
     "metadata": {
      "needs_background": "light"
     },
     "output_type": "display_data"
    }
   ],
   "source": [
    "df[['kospi']].plot()"
   ]
  },
  {
   "cell_type": "code",
   "execution_count": 26,
   "metadata": {},
   "outputs": [
    {
     "data": {
      "text/plain": [
       "<matplotlib.axes._subplots.AxesSubplot at 0x20642b77b88>"
      ]
     },
     "execution_count": 26,
     "metadata": {},
     "output_type": "execute_result"
    },
    {
     "data": {
      "image/png": "[encoded data removed]",
      "text/plain": [
       "<Figure size 432x288 with 1 Axes>"
      ]
     },
     "metadata": {
      "needs_background": "light"
     },
     "output_type": "display_data"
    }
   ],
   "source": [
    "df[['samsung', 'kospi']].plot()"
   ]
  },
  {
   "cell_type": "code",
   "execution_count": 57,
   "metadata": {},
   "outputs": [
    {
     "data": {
      "image/png": "[encoded data removed]",
      "text/plain": [
       "<Figure size 1080x288 with 1 Axes>"
      ]
     },
     "metadata": {
      "needs_background": "light"
     },
     "output_type": "display_data"
    }
   ],
   "source": [
    "fig, ax = plt.subplots(figsize=(15,4))\n",
    "ax.plot(df.index, df['samsung'], color='g', marker='o', linestyle=\"--\")\n",
    "ax.set_xticklabels(df.index, rotation=45)\n",
    "\n",
    "plt.xlabel('Month date')\n",
    "plt.ylabel('values')\n",
    "plt.title('Monthly average')\n",
    "plt.legend(df)\n",
    "plt.show()"
   ]
  },
  {
   "cell_type": "code",
   "execution_count": null,
   "metadata": {},
   "outputs": [],
   "source": []
  }
 ],
 "metadata": {
  "kernelspec": {
   "display_name": "Python 3",
   "language": "python",
   "name": "python3"
  },
  "language_info": {
   "codemirror_mode": {
    "name": "ipython",
    "version": 3
   },
   "file_extension": ".py",
   "mimetype": "text/x-python",
   "name": "python",
   "nbconvert_exporter": "python",
   "pygments_lexer": "ipython3",
   "version": "3.7.4"
  }
 },
 "nbformat": 4,
 "nbformat_minor": 2
}
