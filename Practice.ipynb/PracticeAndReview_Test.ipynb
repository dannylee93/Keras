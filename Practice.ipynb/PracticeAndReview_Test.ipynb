{
 "cells": [
  {
   "cell_type": "code",
   "execution_count": 1,
   "metadata": {},
   "outputs": [
    {
     "data": {
      "text/html": [
       "<div>\n",
       "<style scoped>\n",
       "    .dataframe tbody tr th:only-of-type {\n",
       "        vertical-align: middle;\n",
       "    }\n",
       "\n",
       "    .dataframe tbody tr th {\n",
       "        vertical-align: top;\n",
       "    }\n",
       "\n",
       "    .dataframe thead th {\n",
       "        text-align: right;\n",
       "    }\n",
       "</style>\n",
       "<table border=\"1\" class=\"dataframe\">\n",
       "  <thead>\n",
       "    <tr style=\"text-align: right;\">\n",
       "      <th></th>\n",
       "      <th>일자</th>\n",
       "      <th>시가</th>\n",
       "      <th>고가</th>\n",
       "      <th>저가</th>\n",
       "      <th>종가</th>\n",
       "      <th>거래량</th>\n",
       "    </tr>\n",
       "  </thead>\n",
       "  <tbody>\n",
       "    <tr>\n",
       "      <th>425</th>\n",
       "      <td>2018-05-04</td>\n",
       "      <td>53000</td>\n",
       "      <td>53900</td>\n",
       "      <td>51800</td>\n",
       "      <td>51900</td>\n",
       "      <td>39565391</td>\n",
       "    </tr>\n",
       "    <tr>\n",
       "      <th>424</th>\n",
       "      <td>2018-05-08</td>\n",
       "      <td>52600</td>\n",
       "      <td>53200</td>\n",
       "      <td>51900</td>\n",
       "      <td>52600</td>\n",
       "      <td>23104720</td>\n",
       "    </tr>\n",
       "    <tr>\n",
       "      <th>423</th>\n",
       "      <td>2018-05-09</td>\n",
       "      <td>52600</td>\n",
       "      <td>52800</td>\n",
       "      <td>50900</td>\n",
       "      <td>50900</td>\n",
       "      <td>16128305</td>\n",
       "    </tr>\n",
       "    <tr>\n",
       "      <th>422</th>\n",
       "      <td>2018-05-10</td>\n",
       "      <td>51700</td>\n",
       "      <td>51700</td>\n",
       "      <td>50600</td>\n",
       "      <td>51600</td>\n",
       "      <td>13905263</td>\n",
       "    </tr>\n",
       "    <tr>\n",
       "      <th>421</th>\n",
       "      <td>2018-05-11</td>\n",
       "      <td>52000</td>\n",
       "      <td>52200</td>\n",
       "      <td>51200</td>\n",
       "      <td>51300</td>\n",
       "      <td>10314997</td>\n",
       "    </tr>\n",
       "  </tbody>\n",
       "</table>\n",
       "</div>"
      ],
      "text/plain": [
       "             일자     시가     고가     저가     종가       거래량\n",
       "425  2018-05-04  53000  53900  51800  51900  39565391\n",
       "424  2018-05-08  52600  53200  51900  52600  23104720\n",
       "423  2018-05-09  52600  52800  50900  50900  16128305\n",
       "422  2018-05-10  51700  51700  50600  51600  13905263\n",
       "421  2018-05-11  52000  52200  51200  51300  10314997"
      ]
     },
     "execution_count": 1,
     "metadata": {},
     "output_type": "execute_result"
    }
   ],
   "source": [
    "# 데이터 준비\n",
    "\n",
    "import pandas as pd\n",
    "import numpy as np\n",
    "\n",
    "samsung_data = pd.read_csv('samsung.csv', encoding='cp949', thousands=',')\n",
    "samsung_data = pd.DataFrame(samsung_data).sort_index(ascending=False)\n",
    "\n",
    "samsung_data.head()"
   ]
  },
  {
   "cell_type": "code",
   "execution_count": 2,
   "metadata": {},
   "outputs": [
    {
     "data": {
      "text/html": [
       "<div>\n",
       "<style scoped>\n",
       "    .dataframe tbody tr th:only-of-type {\n",
       "        vertical-align: middle;\n",
       "    }\n",
       "\n",
       "    .dataframe tbody tr th {\n",
       "        vertical-align: top;\n",
       "    }\n",
       "\n",
       "    .dataframe thead th {\n",
       "        text-align: right;\n",
       "    }\n",
       "</style>\n",
       "<table border=\"1\" class=\"dataframe\">\n",
       "  <thead>\n",
       "    <tr style=\"text-align: right;\">\n",
       "      <th></th>\n",
       "      <th>시가</th>\n",
       "      <th>고가</th>\n",
       "      <th>저가</th>\n",
       "      <th>종가</th>\n",
       "      <th>거래량</th>\n",
       "    </tr>\n",
       "  </thead>\n",
       "  <tbody>\n",
       "    <tr>\n",
       "      <th>425</th>\n",
       "      <td>53000</td>\n",
       "      <td>53900</td>\n",
       "      <td>51800</td>\n",
       "      <td>51900</td>\n",
       "      <td>39565391</td>\n",
       "    </tr>\n",
       "    <tr>\n",
       "      <th>424</th>\n",
       "      <td>52600</td>\n",
       "      <td>53200</td>\n",
       "      <td>51900</td>\n",
       "      <td>52600</td>\n",
       "      <td>23104720</td>\n",
       "    </tr>\n",
       "    <tr>\n",
       "      <th>423</th>\n",
       "      <td>52600</td>\n",
       "      <td>52800</td>\n",
       "      <td>50900</td>\n",
       "      <td>50900</td>\n",
       "      <td>16128305</td>\n",
       "    </tr>\n",
       "    <tr>\n",
       "      <th>422</th>\n",
       "      <td>51700</td>\n",
       "      <td>51700</td>\n",
       "      <td>50600</td>\n",
       "      <td>51600</td>\n",
       "      <td>13905263</td>\n",
       "    </tr>\n",
       "    <tr>\n",
       "      <th>421</th>\n",
       "      <td>52000</td>\n",
       "      <td>52200</td>\n",
       "      <td>51200</td>\n",
       "      <td>51300</td>\n",
       "      <td>10314997</td>\n",
       "    </tr>\n",
       "  </tbody>\n",
       "</table>\n",
       "</div>"
      ],
      "text/plain": [
       "        시가     고가     저가     종가       거래량\n",
       "425  53000  53900  51800  51900  39565391\n",
       "424  52600  53200  51900  52600  23104720\n",
       "423  52600  52800  50900  50900  16128305\n",
       "422  51700  51700  50600  51600  13905263\n",
       "421  52000  52200  51200  51300  10314997"
      ]
     },
     "execution_count": 2,
     "metadata": {},
     "output_type": "execute_result"
    }
   ],
   "source": [
    "del(samsung_data['일자'])\n",
    "samsung_data.head()"
   ]
  },
  {
   "cell_type": "code",
   "execution_count": 3,
   "metadata": {},
   "outputs": [
    {
     "name": "stdout",
     "output_type": "stream",
     "text": [
      "        시가     고가     저가     종가       거래량\n",
      "425  53000  53900  51800  51900  39565391\n",
      "424  52600  53200  51900  52600  23104720\n",
      "423  52600  52800  50900  50900  16128305\n",
      "422  51700  51700  50600  51600  13905263\n",
      "421  52000  52200  51200  51300  10314997 50100\n"
     ]
    }
   ],
   "source": [
    "print(samsung_data.iloc[:5, :], samsung_data.iloc[5,3]) # 4번째 열의 6번째 행"
   ]
  },
  {
   "cell_type": "code",
   "execution_count": 4,
   "metadata": {},
   "outputs": [
    {
     "name": "stdout",
     "output_type": "stream",
     "text": [
      "        시가     고가     저가     종가       거래량\n",
      "424  52600  53200  51900  52600  23104720\n",
      "423  52600  52800  50900  50900  16128305\n",
      "422  51700  51700  50600  51600  13905263\n",
      "421  52000  52200  51200  51300  10314997\n",
      "420  51000  51100  49900  50100  14909272 49200\n",
      "        시가     고가     저가     종가       거래량\n",
      "423  52600  52800  50900  50900  16128305\n",
      "422  51700  51700  50600  51600  13905263\n",
      "421  52000  52200  51200  51300  10314997\n",
      "420  51000  51100  49900  50100  14909272\n",
      "419  50200  50400  49100  49200  18709146 49850\n",
      "      시가     고가     저가     종가       거래량\n",
      "5  60500  62600  60400  62300  15339565\n",
      "4  61800  61800  60700  60800  14916555\n",
      "3  59400  59400  58300  58800  23664541\n",
      "2  59100  59700  58800  59100  16446102\n",
      "1  58800  58800  56800  57200  20821939 56400\n"
     ]
    }
   ],
   "source": [
    "print(samsung_data.iloc[1:6, :], samsung_data.iloc[6,3])\n",
    "print(samsung_data.iloc[2:7, :], samsung_data.iloc[7,3])\n",
    "#.....\n",
    "print(samsung_data.iloc[420:425, :], samsung_data.iloc[425,3])\n",
    "\n",
    "# 이런식으로 자르고 중첩해서 (421,5,5) 와 (421,5,1) 데이터를 만든다."
   ]
  },
  {
   "cell_type": "code",
   "execution_count": 5,
   "metadata": {},
   "outputs": [],
   "source": [
    "samsung_data=np.array(samsung_data)\n",
    "\n",
    "\n",
    "x = []\n",
    "y = []\n",
    "for i in range(1, 421, +1):\n",
    "    x_tmp = samsung_data[i:i+5, :]\n",
    "    y_tmp = samsung_data[i+5,3]\n",
    "    \n",
    "    x.append(x_tmp)\n",
    "    y.append(y_tmp)"
   ]
  },
  {
   "cell_type": "code",
   "execution_count": 6,
   "metadata": {},
   "outputs": [],
   "source": [
    "x = np.array(x)\n",
    "y = np.array(y)"
   ]
  },
  {
   "cell_type": "code",
   "execution_count": 7,
   "metadata": {},
   "outputs": [
    {
     "data": {
      "text/plain": [
       "array([[[   52600,    53200,    51900,    52600, 23104720],\n",
       "        [   52600,    52800,    50900,    50900, 16128305],\n",
       "        [   51700,    51700,    50600,    51600, 13905263],\n",
       "        [   52000,    52200,    51200,    51300, 10314997],\n",
       "        [   51000,    51100,    49900,    50100, 14909272]],\n",
       "\n",
       "       [[   52600,    52800,    50900,    50900, 16128305],\n",
       "        [   51700,    51700,    50600,    51600, 13905263],\n",
       "        [   52000,    52200,    51200,    51300, 10314997],\n",
       "        [   51000,    51100,    49900,    50100, 14909272],\n",
       "        [   50200,    50400,    49100,    49200, 18709146]],\n",
       "\n",
       "       [[   51700,    51700,    50600,    51600, 13905263],\n",
       "        [   52000,    52200,    51200,    51300, 10314997],\n",
       "        [   51000,    51100,    49900,    50100, 14909272],\n",
       "        [   50200,    50400,    49100,    49200, 18709146],\n",
       "        [   49200,    50200,    49150,    49850, 15918683]],\n",
       "\n",
       "       ...,\n",
       "\n",
       "       [[   62000,    62800,    61700,    62400, 12528855],\n",
       "        [   62000,    62400,    61200,    61400, 11142693],\n",
       "        [   60500,    62600,    60400,    62300, 15339565],\n",
       "        [   61800,    61800,    60700,    60800, 14916555],\n",
       "        [   59400,    59400,    58300,    58800, 23664541]],\n",
       "\n",
       "       [[   62000,    62400,    61200,    61400, 11142693],\n",
       "        [   60500,    62600,    60400,    62300, 15339565],\n",
       "        [   61800,    61800,    60700,    60800, 14916555],\n",
       "        [   59400,    59400,    58300,    58800, 23664541],\n",
       "        [   59100,    59700,    58800,    59100, 16446102]],\n",
       "\n",
       "       [[   60500,    62600,    60400,    62300, 15339565],\n",
       "        [   61800,    61800,    60700,    60800, 14916555],\n",
       "        [   59400,    59400,    58300,    58800, 23664541],\n",
       "        [   59100,    59700,    58800,    59100, 16446102],\n",
       "        [   58800,    58800,    56800,    57200, 20821939]]], dtype=int64)"
      ]
     },
     "execution_count": 7,
     "metadata": {},
     "output_type": "execute_result"
    }
   ],
   "source": [
    "x"
   ]
  },
  {
   "cell_type": "code",
   "execution_count": 8,
   "metadata": {},
   "outputs": [
    {
     "name": "stdout",
     "output_type": "stream",
     "text": [
      "(420, 5, 5) (420,)\n"
     ]
    }
   ],
   "source": [
    "print(x.shape,y.shape)"
   ]
  },
  {
   "cell_type": "code",
   "execution_count": null,
   "metadata": {},
   "outputs": [],
   "source": [
    "# 위의 진행 과정을 하나의 객체로 쉽게 해낼 수 있다.\n",
    "\n",
    "print(x_temp.shape,y_temp.shape)import numpy as np\n",
    "                # 10, 4\n",
    "def split_sequence2(seqence, n_steps):\n",
    "    x,y = list(), list()\n",
    "    for i in range(len(seqence)):     # 10\n",
    "        end_ix = i +n_steps           # 0 + 4 = 4 /// 0 + 4\n",
    "        if end_ix > len(seqence)-2:   # 4 > 10 ??\n",
    "            break\n",
    "            \n",
    "        seq_x, seq_y = seqence[i:end_ix, : ], seqence[end_ix+1, 3]   # x=0,1,2,3 / y=4 \n",
    "        x.append(seq_x)                                      \n",
    "        y.append(seq_y)\n",
    "    return np.array(x), np.array(y)\n",
    "\n",
    "x,y=(split_sequence2(samsung,5))"
   ]
  }
 ],
 "metadata": {
  "kernelspec": {
   "display_name": "Python 3",
   "language": "python",
   "name": "python3"
  },
  "language_info": {
   "codemirror_mode": {
    "name": "ipython",
    "version": 3
   },
   "file_extension": ".py",
   "mimetype": "text/x-python",
   "name": "python",
   "nbconvert_exporter": "python",
   "pygments_lexer": "ipython3",
   "version": "3.7.3"
  }
 },
 "nbformat": 4,
 "nbformat_minor": 4
}
