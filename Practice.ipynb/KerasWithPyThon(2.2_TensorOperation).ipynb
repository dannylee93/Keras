{
 "cells": [
  {
   "cell_type": "code",
   "execution_count": 1,
   "metadata": {},
   "outputs": [
    {
     "name": "stderr",
     "output_type": "stream",
     "text": [
      "Using TensorFlow backend.\n"
     ]
    },
    {
     "data": {
      "text/plain": [
       "'2.2.4'"
      ]
     },
     "execution_count": 1,
     "metadata": {},
     "output_type": "execute_result"
    }
   ],
   "source": [
    "import keras\n",
    "\n",
    "keras.__version__"
   ]
  },
  {
   "cell_type": "code",
   "execution_count": 2,
   "metadata": {},
   "outputs": [],
   "source": [
    "import numpy as np"
   ]
  },
  {
   "cell_type": "code",
   "execution_count": 3,
   "metadata": {},
   "outputs": [
    {
     "name": "stdout",
     "output_type": "stream",
     "text": [
      "12\n",
      "0\n",
      "()\n"
     ]
    }
   ],
   "source": [
    "# 0D 텐서 / 스칼라\n",
    "x = np.array(12)\n",
    "print(x)\n",
    "print(x.ndim)\n",
    "print(x.shape)"
   ]
  },
  {
   "cell_type": "code",
   "execution_count": 4,
   "metadata": {},
   "outputs": [
    {
     "name": "stdout",
     "output_type": "stream",
     "text": [
      "[12  3  6 14  7]\n",
      "1\n",
      "(5,)\n"
     ]
    }
   ],
   "source": [
    "# 1D 텐서 / 벡터\n",
    "\n",
    "x = np.array([12,3,6,14,7])\n",
    "print(x)\n",
    "print(x.ndim)\n",
    "print(x.shape)"
   ]
  },
  {
   "cell_type": "code",
   "execution_count": 5,
   "metadata": {},
   "outputs": [
    {
     "name": "stdout",
     "output_type": "stream",
     "text": [
      "[[1 2 3 4 5]\n",
      " [1 2 3 4 5]\n",
      " [1 2 3 4 5]]\n",
      "2\n",
      "(3, 5)\n"
     ]
    }
   ],
   "source": [
    "# 2D 텐서 / 행렬\n",
    "\n",
    "x = np.array([[1,2,3,4,5],[1,2,3,4,5],[1,2,3,4,5]])\n",
    "print(x)\n",
    "print(x.ndim)\n",
    "print(x.shape)"
   ]
  },
  {
   "cell_type": "markdown",
   "metadata": {},
   "source": [
    "- shape는 각 축을 따라 얼마나 많은 차원이 있는지를 나타내는 파이썬의 튜플이다.\n",
    "- 벡터(1D텐서)는 1개의 원소로 이루어진 튜플 / 스칼라는 크기가 없다.\n",
    "- 데이터 타입 또한 텐서에 포함된다."
   ]
  },
  {
   "cell_type": "code",
   "execution_count": 6,
   "metadata": {},
   "outputs": [],
   "source": [
    "from keras.datasets import mnist\n",
    "\n",
    "(train_images, train_labels), (test_images, test_labels) = mnist.load_data()"
   ]
  },
  {
   "cell_type": "code",
   "execution_count": 7,
   "metadata": {},
   "outputs": [
    {
     "name": "stdout",
     "output_type": "stream",
     "text": [
      "(90, 28, 28)\n",
      "(90, 28, 28)\n"
     ]
    }
   ],
   "source": [
    "# 넘파이로 텐서 조작하기\n",
    "\n",
    "slice_AM = train_images[10:100]\n",
    "print(slice_AM.shape)\n",
    "\n",
    "slice_FM = train_images[10:100, : , : ]\n",
    "print(slice_FM.shape)"
   ]
  },
  {
   "cell_type": "markdown",
   "metadata": {},
   "source": [
    "<b>데이터 표시</b>\n",
    "- 벡터 데이터 : 2D텐서 / (샘플축(행), 특성축(렬))\n",
    "- 시계열 또는 시퀀스 데이터 : 3D텐서 / (샘플 수, 타임 스텝(행), 특성축(렬))\n",
    "- 이미지 데이터 : 4D텐서 / (샘플 수, 높이(행), 너비(렬), 채널 수)"
   ]
  },
  {
   "cell_type": "markdown",
   "metadata": {},
   "source": [
    "<br>\n",
    "\n",
    "## 텐서 연산 Tensor Operation"
   ]
  },
  {
   "cell_type": "markdown",
   "metadata": {},
   "source": [
    "<b>브로드캐스팅: 큰 텐서의 크기에 맞춰, 작은 텐서를 연산할 수 있다.</b>\n",
    "- 큰 텐서의 ndim에 맞도록 작은 텐서에 축이 추가된다.\n",
    "- 작은 텐서가 새 축을 따라서 큰 텐서의 크기에 맞도록 반복된다.\n"
   ]
  },
  {
   "cell_type": "code",
   "execution_count": 8,
   "metadata": {},
   "outputs": [],
   "source": [
    "def braodcast(x,y):\n",
    "    assert len(x.shape) == 2\n",
    "    assert len(y.shape) == 1\n",
    "    assert x.shape[1] == y.shape[0]\n",
    "    \n",
    "    x = x.copy()\n",
    "    for i in range(x.shape[0]):\n",
    "        for j in range(x.shape[1]):\n",
    "            x[i,j] += y[j]\n",
    "    return x\n"
   ]
  },
  {
   "cell_type": "code",
   "execution_count": null,
   "metadata": {},
   "outputs": [],
   "source": [
    "# 텐서 점곱\n",
    "\n",
    "import numpy as np\n",
    "\n",
    "z = np.dot(x, y)\n",
    "z = x @ y\n",
    "\n",
    "def naive_vector_dot(x,y):\n",
    "    assert len(x.shape) == 1\n",
    "    assert len(y.shape) == 1\n",
    "    assert x.shape[0] == y.shape[0]\n",
    "    \n",
    "    z = 0.\n",
    "    for i in range(x.shape[0]):\n",
    "        z += x[i] * y[i]\n",
    "    return z"
   ]
  }
 ],
 "metadata": {
  "kernelspec": {
   "display_name": "Python 3",
   "language": "python",
   "name": "python3"
  },
  "language_info": {
   "codemirror_mode": {
    "name": "ipython",
    "version": 3
   },
   "file_extension": ".py",
   "mimetype": "text/x-python",
   "name": "python",
   "nbconvert_exporter": "python",
   "pygments_lexer": "ipython3",
   "version": "3.7.3"
  }
 },
 "nbformat": 4,
 "nbformat_minor": 2
}
