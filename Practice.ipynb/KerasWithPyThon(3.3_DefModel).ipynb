{
 "cells": [
  {
   "cell_type": "code",
   "execution_count": 1,
   "metadata": {},
   "outputs": [
    {
     "name": "stderr",
     "output_type": "stream",
     "text": [
      "Using TensorFlow backend.\n"
     ]
    },
    {
     "data": {
      "text/plain": [
       "'2.2.4'"
      ]
     },
     "execution_count": 1,
     "metadata": {},
     "output_type": "execute_result"
    }
   ],
   "source": [
    "import keras\n",
    "keras.__version__"
   ]
  },
  {
   "cell_type": "code",
   "execution_count": 8,
   "metadata": {},
   "outputs": [],
   "source": [
    "from keras.models import Sequential\n",
    "from keras.layers import Dense, Input\n",
    "from keras import models\n",
    "\n",
    "# 모델 정의하는 방법 1 : Sequential 클래스(층을 순서대로 쌓는 방법)\n",
    "model = Sequential()\n",
    "model.add(Dense(32, activation='relu', input_shape=(784, )))\n",
    "model.add(Dense(10, activation='softmax'))\n",
    "\n",
    "# # 모델 정의하는 방법 2 : 함수형 API(모델이 처리할 텐서를 먼저 만들고 함수처럼 이용)\n",
    "input_tensor = Input(shape=(784, ))\n",
    "x = Dense(32, activation='relu')(input_tensor)\n",
    "output_tensor = Dense(10, activation='softmax')(x)\n",
    "\n",
    "model = models.Model(inputs = input_tensor,\n",
    "                     outputs = output_tensor)"
   ]
  },
  {
   "cell_type": "code",
   "execution_count": null,
   "metadata": {},
   "outputs": [],
   "source": []
  }
 ],
 "metadata": {
  "kernelspec": {
   "display_name": "Python 3",
   "language": "python",
   "name": "python3"
  },
  "language_info": {
   "codemirror_mode": {
    "name": "ipython",
    "version": 3
   },
   "file_extension": ".py",
   "mimetype": "text/x-python",
   "name": "python",
   "nbconvert_exporter": "python",
   "pygments_lexer": "ipython3",
   "version": "3.7.3"
  }
 },
 "nbformat": 4,
 "nbformat_minor": 2
}
