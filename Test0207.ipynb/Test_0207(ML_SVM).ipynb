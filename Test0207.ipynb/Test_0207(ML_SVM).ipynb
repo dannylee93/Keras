{
 "cells": [
  {
   "cell_type": "code",
   "execution_count": 1,
   "metadata": {},
   "outputs": [],
   "source": [
    "# 데이터 준비 \n",
    "import pandas as pd\n",
    "import numpy as np\n",
    "\n",
    "samsung_data = pd.read_csv('samsung.csv', encoding='cp949', thousands=',')\n",
    "samsung_data = pd.DataFrame(samsung_data).sort_index(ascending=False)\n",
    "\n",
    "del(samsung_data['일자'])\n",
    "samsung = np.array(samsung_data)\n",
    "\n",
    "samsung_target = pd.read_excel('samsung0206.xlsx', encoding='cp949', thousands=',')\n",
    "samsung_target = pd.DataFrame(samsung_target).sort_index(ascending=False)\n",
    "\n",
    "del(samsung_target['Unnamed: 0'])\n",
    "predict = np.array(samsung_target)\n",
    "\n",
    "# 데이터 셋 준비\n",
    "x = []\n",
    "y = []\n",
    "\n",
    "# print(samsung_data.iloc[1:6, :], samsung_data.iloc[6,3])  >>> 예시\n",
    "for i in range(1, len(samsung)-4, +1):\n",
    "    x_tmp = samsung[i:i+4, :]   # (5행 5열 데이터 뽑아서 넣어줘)\n",
    "    y_tmp = samsung[i+4, 3]     # x데이터 바로 다음 행의 종가 데이터 알려줘\n",
    "    \n",
    "    x.append(x_tmp)\n",
    "    y.append(y_tmp)\n",
    "########################################################################\n",
    "x = np.array(x)\n",
    "y = np.array(y)\n",
    "\n",
    "# Data split하기\n",
    "from sklearn.model_selection import train_test_split\n",
    "\n",
    "x_train, x_test , y_train, y_test = train_test_split(x, y,\n",
    "                                                     test_size=0.4,\n",
    "                                                     shuffle = False)\n",
    "x_test, x_val , y_test, y_val = train_test_split(x_test, y_test,\n",
    "                                                     test_size=0.5,\n",
    "                                                     shuffle = False)"
   ]
  },
  {
   "cell_type": "code",
   "execution_count": 2,
   "metadata": {},
   "outputs": [
    {
     "name": "stdout",
     "output_type": "stream",
     "text": [
      "(252, 4, 5) (84, 4, 5) (85, 4, 5)\n",
      "(252,) (84,) (85,)\n"
     ]
    }
   ],
   "source": [
    "print(x_train.shape, x_test.shape, x_val.shape)\n",
    "print(y_train.shape, y_test.shape, y_val.shape)"
   ]
  },
  {
   "cell_type": "code",
   "execution_count": 3,
   "metadata": {},
   "outputs": [],
   "source": [
    "x_train = x_train.reshape(x_train.shape[0], 4*5)\n",
    "x_test = x_test.reshape(x_test.shape[0], 4*5)\n",
    "x_val = x_val.reshape(x_val.shape[0], 4*5)\n",
    "predict = predict.reshape(1,4*5)"
   ]
  },
  {
   "cell_type": "code",
   "execution_count": 4,
   "metadata": {
    "scrolled": true
   },
   "outputs": [
    {
     "name": "stderr",
     "output_type": "stream",
     "text": [
      "C:\\Users\\student\\Anaconda3\\lib\\site-packages\\sklearn\\svm\\base.py:931: ConvergenceWarning: Liblinear failed to converge, increase the number of iterations.\n",
      "  \"the number of iterations.\", ConvergenceWarning)\n"
     ]
    },
    {
     "data": {
      "text/plain": [
       "LinearSVC(C=1.0, class_weight=None, dual=True, fit_intercept=True,\n",
       "     intercept_scaling=1, loss='squared_hinge', max_iter=1000,\n",
       "     multi_class='ovr', penalty='l2', random_state=0, tol=0.0001,\n",
       "     verbose=0)"
      ]
     },
     "execution_count": 4,
     "metadata": {},
     "output_type": "execute_result"
    }
   ],
   "source": [
    "from sklearn.svm import LinearSVC\n",
    "\n",
    "clf = LinearSVC(random_state=0)\n",
    "clf.fit(x_train, y_train)"
   ]
  },
  {
   "cell_type": "code",
   "execution_count": 5,
   "metadata": {},
   "outputs": [
    {
     "name": "stdout",
     "output_type": "stream",
     "text": [
      "훈련 MSE : 10935396.825396825 , 테스트 MSE : 4425684.523809524\n",
      "훈련 R2 : -0.31089550415346356 , 테스트 R2 : -0.4687774674412162\n"
     ]
    }
   ],
   "source": [
    "y_train_predict = clf.predict(x_train)\n",
    "y_test_predict = clf.predict(x_test)\n",
    "y_predict = clf.predict(predict)\n",
    "\n",
    "from sklearn.metrics import mean_squared_error\n",
    "print(\"훈련 MSE : {} , 테스트 MSE : {}\".format(\n",
    "    mean_squared_error(y_train, y_train_predict),\n",
    "    mean_squared_error(y_test, y_test_predict)))\n",
    "\n",
    "from sklearn.metrics import r2_score\n",
    "print(\"훈련 R2 : {} , 테스트 R2 : {}\".format(\n",
    "    r2_score(y_train, y_train_predict),\n",
    "    r2_score(y_test, y_test_predict)))"
   ]
  },
  {
   "cell_type": "code",
   "execution_count": 6,
   "metadata": {},
   "outputs": [
    {
     "name": "stdout",
     "output_type": "stream",
     "text": [
      "종가(test) : 42600\n",
      "종가(pred) : [45800]\n"
     ]
    }
   ],
   "source": [
    "print(\"종가(test) : {}\".format(y_test_predict[len(y_test_predict)-1]))\n",
    "print(\"종가(pred) : {}\".format(y_predict))    "
   ]
  },
  {
   "cell_type": "code",
   "execution_count": 7,
   "metadata": {},
   "outputs": [
    {
     "data": {
      "text/plain": [
       "42600"
      ]
     },
     "execution_count": 7,
     "metadata": {},
     "output_type": "execute_result"
    }
   ],
   "source": [
    "y_test_predict[83]"
   ]
  },
  {
   "cell_type": "code",
   "execution_count": 9,
   "metadata": {},
   "outputs": [
    {
     "data": {
      "image/png": "[encoded data removed]",
      "text/plain": [
       "<Figure size 432x288 with 1 Axes>"
      ]
     },
     "metadata": {
      "needs_background": "light"
     },
     "output_type": "display_data"
    }
   ],
   "source": [
    "import matplotlib.pyplot as plt\n",
    "\n",
    "# 트레이닝 모델\n",
    "plt.scatter(y_train_predict,\n",
    "            (y_train_predict-y_train),\n",
    "            c='steelblue',\n",
    "            edgecolors='white',\n",
    "            marker='o',\n",
    "            s=35,\n",
    "            alpha=0.9,\n",
    "            label=\"Training Data\")\n",
    "# 테스트 모델\n",
    "plt.scatter(y_test_predict,\n",
    "            (y_test_predict-y_test),\n",
    "            c='limegreen',\n",
    "            edgecolors='white',\n",
    "            marker='s',\n",
    "            s=35,\n",
    "            alpha=0.9,\n",
    "            label=\"Test Data\")\n",
    "\n",
    "plt.xlabel('Predicted values')\n",
    "plt.ylabel('Residuals')\n",
    "plt.legend(loc='upper left')\n",
    "plt.tight_layout()\n",
    "plt.show()"
   ]
  },
  {
   "cell_type": "code",
   "execution_count": null,
   "metadata": {},
   "outputs": [],
   "source": []
  }
 ],
 "metadata": {
  "kernelspec": {
   "display_name": "Python 3",
   "language": "python",
   "name": "python3"
  },
  "language_info": {
   "codemirror_mode": {
    "name": "ipython",
    "version": 3
   },
   "file_extension": ".py",
   "mimetype": "text/x-python",
   "name": "python",
   "nbconvert_exporter": "python",
   "pygments_lexer": "ipython3",
   "version": "3.7.3"
  }
 },
 "nbformat": 4,
 "nbformat_minor": 2
}
